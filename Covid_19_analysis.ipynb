{
  "nbformat": 4,
  "nbformat_minor": 0,
  "metadata": {
    "colab": {
      "name": "Covid_19_analysis.ipynb",
      "provenance": [],
      "toc_visible": true,
      "authorship_tag": "ABX9TyMhSWsfJqgRT+IO2KqdnZUa",
      "include_colab_link": true
    },
    "kernelspec": {
      "name": "python3",
      "display_name": "Python 3"
    }
  },
  "cells": [
    {
      "cell_type": "markdown",
      "metadata": {
        "id": "view-in-github",
        "colab_type": "text"
      },
      "source": [
        "<a href=\"https://colab.research.google.com/github/JoshuaHaga/Covid_19_sprint_1_buildwk/blob/master/Covid_19_analysis.ipynb\" target=\"_parent\"><img src=\"https://colab.research.google.com/assets/colab-badge.svg\" alt=\"Open In Colab\"/></a>"
      ]
    },
    {
      "cell_type": "code",
      "metadata": {
        "id": "tLCyNyNMqP5l",
        "colab_type": "code",
        "colab": {}
      },
      "source": [
        "### Must run cell below to load data ###"
      ],
      "execution_count": 1,
      "outputs": []
    },
    {
      "cell_type": "code",
      "metadata": {
        "id": "nrtC-u55iKPE",
        "colab_type": "code",
        "colab": {
          "base_uri": "https://localhost:8080/",
          "height": 343
        },
        "outputId": "429f1fec-a2d7-4cf7-e4e0-209899aa8c3b"
      },
      "source": [
        "!wget 'https://storage.googleapis.com/kaggle-data-sets/555089%2F1416097%2Fbundle%2Farchive.zip?GoogleAccessId=gcp-kaggle-com@kaggle-161607.iam.gserviceaccount.com&Expires=1598147753&Signature=IukcSTm6w5zUlHaMV4oEP54bDH7VN6pQZQ5IXC5lPv0iVDEdglpdZ3muSmSpuCc56KZKg4zErk2hCG5BocMkfIwGNamqjqJtdHJFKdL4LC2jU%2B71KL%2BVFwfpv6q907o7MztOCZ44oC444RnrTDiobim5%2FdcBZAJ2GYLKpV3TdavOVMtWxhnWDs1r0BhwLLlWFINNa5eRfpmSn9n5MDSkBwZGq9nmmNMVjJHRv%2FRTfflREET2aTC8hPBFSQQN57Wk6HBvWzSzWrbxv91qZ0RU8EY%2BocXQ7jjshUxJzNr1%2BAqlmSIEB9azuFGzUw0JeJoXzbLjS59PLj3R0k2TMEUb%2Fg%3D%3D'\n",
        "!unzip '/content/555089%2F1416097%2Fbundle%2Farchive.zip?GoogleAccessId=gcp-kaggle-com@kaggle-161607.iam.gserviceaccount.com&Expires=1598147753&Signature=IukcSTm6w5zUlHaMV4oEP54bDH7VN6pQZQ5IXC5lPv0iVDEdglpdZ3muSmSpuCc56KZKg4zErk2hCG5BocMkfIwGNamqjqJtdHJ'"
      ],
      "execution_count": 1,
      "outputs": [
        {
          "output_type": "stream",
          "text": [
            "The name is too long, 487 chars total.\n",
            "Trying to shorten...\n",
            "New name is 555089%2F1416097%2Fbundle%2Farchive.zip?GoogleAccessId=gcp-kaggle-com@kaggle-161607.iam.gserviceaccount.com&Expires=1598147753&Signature=IukcSTm6w5zUlHaMV4oEP54bDH7VN6pQZQ5IXC5lPv0iVDEdglpdZ3muSmSpuCc56KZKg4zErk2hCG5BocMkfIwGNamqjqJtdHJ.\n",
            "--2020-08-22 01:36:12--  https://storage.googleapis.com/kaggle-data-sets/555089%2F1416097%2Fbundle%2Farchive.zip?GoogleAccessId=gcp-kaggle-com@kaggle-161607.iam.gserviceaccount.com&Expires=1598147753&Signature=IukcSTm6w5zUlHaMV4oEP54bDH7VN6pQZQ5IXC5lPv0iVDEdglpdZ3muSmSpuCc56KZKg4zErk2hCG5BocMkfIwGNamqjqJtdHJFKdL4LC2jU%2B71KL%2BVFwfpv6q907o7MztOCZ44oC444RnrTDiobim5%2FdcBZAJ2GYLKpV3TdavOVMtWxhnWDs1r0BhwLLlWFINNa5eRfpmSn9n5MDSkBwZGq9nmmNMVjJHRv%2FRTfflREET2aTC8hPBFSQQN57Wk6HBvWzSzWrbxv91qZ0RU8EY%2BocXQ7jjshUxJzNr1%2BAqlmSIEB9azuFGzUw0JeJoXzbLjS59PLj3R0k2TMEUb%2Fg%3D%3D\n",
            "Resolving storage.googleapis.com (storage.googleapis.com)... 108.177.126.128, 108.177.127.128, 173.194.69.128, ...\n",
            "Connecting to storage.googleapis.com (storage.googleapis.com)|108.177.126.128|:443... connected.\n",
            "HTTP request sent, awaiting response... 200 OK\n",
            "Length: 5091268 (4.9M) [application/zip]\n",
            "Saving to: ‘555089%2F1416097%2Fbundle%2Farchive.zip?GoogleAccessId=gcp-kaggle-com@kaggle-161607.iam.gserviceaccount.com&Expires=1598147753&Signature=IukcSTm6w5zUlHaMV4oEP54bDH7VN6pQZQ5IXC5lPv0iVDEdglpdZ3muSmSpuCc56KZKg4zErk2hCG5BocMkfIwGNamqjqJtdHJ’\n",
            "\n",
            "555089%2F1416097%2F 100%[===================>]   4.85M  5.97MB/s    in 0.8s    \n",
            "\n",
            "2020-08-22 01:36:14 (5.97 MB/s) - ‘555089%2F1416097%2Fbundle%2Farchive.zip?GoogleAccessId=gcp-kaggle-com@kaggle-161607.iam.gserviceaccount.com&Expires=1598147753&Signature=IukcSTm6w5zUlHaMV4oEP54bDH7VN6pQZQ5IXC5lPv0iVDEdglpdZ3muSmSpuCc56KZKg4zErk2hCG5BocMkfIwGNamqjqJtdHJ’ saved [5091268/5091268]\n",
            "\n",
            "Archive:  /content/555089%2F1416097%2Fbundle%2Farchive.zip?GoogleAccessId=gcp-kaggle-com@kaggle-161607.iam.gserviceaccount.com&Expires=1598147753&Signature=IukcSTm6w5zUlHaMV4oEP54bDH7VN6pQZQ5IXC5lPv0iVDEdglpdZ3muSmSpuCc56KZKg4zErk2hCG5BocMkfIwGNamqjqJtdHJ\n",
            "  inflating: us_counties_covid19_daily.csv  \n",
            "  inflating: us_covid19_daily.csv    \n",
            "  inflating: us_states_covid19_daily.csv  \n"
          ],
          "name": "stdout"
        }
      ]
    },
    {
      "cell_type": "markdown",
      "metadata": {
        "id": "7KU9XF0rl226",
        "colab_type": "text"
      },
      "source": [
        "##COVID-19 in USA"
      ]
    },
    {
      "cell_type": "markdown",
      "metadata": {
        "id": "RnG4yhU5l7wy",
        "colab_type": "text"
      },
      "source": [
        "#Context\n",
        "Data is obtained from COVID-19 Tracking project and NYTimes. Sincere thanks to them for making it available to the public.\n",
        "\n",
        "Coronaviruses are a large family of viruses which may cause illness in animals or humans. In humans, several coronaviruses are known to cause respiratory infections ranging from the common cold to more severe diseases such as Middle East Respiratory Syndrome (MERS) and Severe Acute Respiratory Syndrome (SARS). The most recently discovered coronavirus causes coronavirus disease COVID-19 - World Health Organization\n",
        "\n",
        "The number of new cases are increasing day by day around the world. This dataset has information from 50 US states and the District of Columbia at daily level."
      ]
    },
    {
      "cell_type": "markdown",
      "metadata": {
        "id": "Qe4zTg1ZmMrl",
        "colab_type": "text"
      },
      "source": [
        "The Original Dataset can be found on kaggle by clicking [here](https://www.kaggle.com/sudalairajkumar/covid19-in-usa)."
      ]
    },
    {
      "cell_type": "markdown",
      "metadata": {
        "id": "iYCsKJ7GvkLz",
        "colab_type": "text"
      },
      "source": [
        "#Index\n",
        "All datasets, functions, libraries, and variables used throughout the notebook  will be outlined here. "
      ]
    },
    {
      "cell_type": "markdown",
      "metadata": {
        "id": "N9XoQvZ917NI",
        "colab_type": "text"
      },
      "source": [
        "###Libraries"
      ]
    },
    {
      "cell_type": "code",
      "metadata": {
        "id": "-JmNtiLFqoXY",
        "colab_type": "code",
        "colab": {}
      },
      "source": [
        "import numpy as np\n",
        "import matplotlib.pyplot as plt\n",
        "import pandas as pd\n",
        "from datetime import datetime\n",
        "from scipy import linalg"
      ],
      "execution_count": 3,
      "outputs": []
    },
    {
      "cell_type": "markdown",
      "metadata": {
        "id": "MJ_HBRHq2Tx-",
        "colab_type": "text"
      },
      "source": [
        "###Datasets"
      ]
    },
    {
      "cell_type": "code",
      "metadata": {
        "id": "zEdxUi4tlubS",
        "colab_type": "code",
        "colab": {}
      },
      "source": [
        "### These 3 dataframes come from the kaggle dataset 'COVID-19 in USA'\n",
        "counties = pd.read_csv('/content/us_counties_covid19_daily.csv')\n",
        "states   = pd.read_csv('/content/us_states_covid19_daily.csv')\n",
        "us       = pd.read_csv('/content/us_states_covid19_daily.csv')"
      ],
      "execution_count": 5,
      "outputs": []
    },
    {
      "cell_type": "markdown",
      "metadata": {
        "id": "VkCv-sf92djk",
        "colab_type": "text"
      },
      "source": [
        "###Functions"
      ]
    },
    {
      "cell_type": "code",
      "metadata": {
        "id": "J6pVBxgRpzqX",
        "colab_type": "code",
        "colab": {}
      },
      "source": [
        "### Checks for null values. \n",
        "def null_check(dataframe):\n",
        "    val = dataframe.isnull().sum()\n",
        "    val_sum = val.sum()\n",
        "    if val_sum == 0:\n",
        "      print('Zero null values.')\n",
        "    else:\n",
        "      print(val)\n",
        "\n",
        "### Finds null counts, shape, describes and previews data set. \n",
        "def explore(dataframe):\n",
        "  print(null_check(dataframe))\n",
        "  print('Shape: ', dataframe.shape)\n",
        "  print(dataframe.describe())\n",
        "  return dataframe.head()\n",
        "\n",
        "### Creates a list from column names\n",
        "def col_list(dataframe):\n",
        "  val_counts = dataframe.value_counts()\n",
        "  val_as_pd  = pd.DataFrame(val_counts).T\n",
        "  val_list   = val_as_pd.columns.tolist()\n",
        "  return val_list\n",
        "\n",
        "### Calculates daily averages of new cases for counties. Outputs as pandas df\n",
        "def cnty_daily_avg(dataframe, countyname):\n",
        "  county = dataframe[dataframe['county']==countyname]\n",
        "  mean   = county['cases'].mean()\n",
        "  avg    = mean/len(county)\n",
        "  dat    = [countyname,avg]\n",
        "  return dat\n",
        "\n",
        "###Applies county daily average function across dataframe from a list. \n",
        "def daily_df(dataframe, countylist,):\n",
        "  data_list = []\n",
        "  for i in countylist:\n",
        "    data_list.append(cnty_daily_avg(dataframe, i)) \n",
        "  return pd.DataFrame(data_list, columns=['county','daily_avg'])\n",
        "\n",
        "###Creates a dataframe of daily averages for any state. \n",
        "def prep_counties(df, state):\n",
        "  state = df[df['state']==state]\n",
        "  county_names = col_list(state['county']) \n",
        "  ste = state[state['county']=='Baltimore']\n",
        "  state_daily_avg = daily_df(state, county_names,)\n",
        "  return pd.DataFrame(state_daily_avg, columns=['county','daily_new_avg'])"
      ],
      "execution_count": 6,
      "outputs": []
    },
    {
      "cell_type": "markdown",
      "metadata": {
        "id": "_5MhPXKn6DV4",
        "colab_type": "text"
      },
      "source": [
        "###Variables"
      ]
    },
    {
      "cell_type": "code",
      "metadata": {
        "id": "zP-ys3706HLA",
        "colab_type": "code",
        "colab": {}
      },
      "source": [
        "\n",
        "################################################################################\n",
        "###########################<<---- Maryland ---->>###############################\n",
        "################################################################################\n",
        "### md_counties                  #< - - - - - - - - - - - All Counties in MD ###\n",
        "### md_counties_vc               #< - - - - - Value counts of counties in MD ###\n",
        "### md_county_names              #< - - - - - - - - - List of counties in MD ###\n",
        "### baltimore_daily_average      #< - - - - Average of new cases daily in MD ###\n",
        "### md_daily_avg                 #< - - - This is a dataframe of the average ###\n",
        "###                              #      number of new cases per day for each ###\n",
        "###                              #      county in the state of MD.           ###\n",
        "###"
      ],
      "execution_count": 7,
      "outputs": []
    },
    {
      "cell_type": "markdown",
      "metadata": {
        "id": "RtJnWrIc6dvn",
        "colab_type": "text"
      },
      "source": [
        "# Data Exploration"
      ]
    },
    {
      "cell_type": "markdown",
      "metadata": {
        "id": "nayrCYJN6V2r",
        "colab_type": "text"
      },
      "source": [
        "### Introduction:\n",
        "  Here I will. be doing some basic data explorations of the sets listed in the index. I will clean data here and begin to draw conclusions to be processed later. Findings will be collected and expounded upon at the end of this section. "
      ]
    },
    {
      "cell_type": "markdown",
      "metadata": {
        "id": "lCES3NaluU7s",
        "colab_type": "text"
      },
      "source": [
        "##Counties \n",
        "Here I am going to explore the counties data set and see what all I can find. Since I live in MD, I am going to first take a look at the number of positive cases since the start of data collection"
      ]
    },
    {
      "cell_type": "code",
      "metadata": {
        "id": "-FQX-8FMp1Bv",
        "colab_type": "code",
        "colab": {
          "base_uri": "https://localhost:8080/",
          "height": 510
        },
        "outputId": "4f5ab91c-7bc4-4133-ae5d-5a97fdedaf82"
      },
      "source": [
        "### Doing some initial exploration in the counties dataset ###\n",
        "explore(counties)"
      ],
      "execution_count": 8,
      "outputs": [
        {
          "output_type": "stream",
          "text": [
            "date         0\n",
            "county       0\n",
            "state        0\n",
            "fips      4250\n",
            "cases        0\n",
            "deaths       0\n",
            "dtype: int64\n",
            "None\n",
            "Shape:  (427831, 6)\n",
            "                fips          cases         deaths\n",
            "count  423581.000000  427831.000000  427831.000000\n",
            "mean    31028.521591     706.072795      31.361608\n",
            "std     16213.346592    5023.235684     383.072950\n",
            "min      1001.000000       0.000000       0.000000\n",
            "25%     18147.000000      10.000000       0.000000\n",
            "50%     29167.000000      48.000000       1.000000\n",
            "75%     46075.000000     234.000000       6.000000\n",
            "max     78030.000000  233422.000000   23602.000000\n"
          ],
          "name": "stdout"
        },
        {
          "output_type": "execute_result",
          "data": {
            "text/html": [
              "<div>\n",
              "<style scoped>\n",
              "    .dataframe tbody tr th:only-of-type {\n",
              "        vertical-align: middle;\n",
              "    }\n",
              "\n",
              "    .dataframe tbody tr th {\n",
              "        vertical-align: top;\n",
              "    }\n",
              "\n",
              "    .dataframe thead th {\n",
              "        text-align: right;\n",
              "    }\n",
              "</style>\n",
              "<table border=\"1\" class=\"dataframe\">\n",
              "  <thead>\n",
              "    <tr style=\"text-align: right;\">\n",
              "      <th></th>\n",
              "      <th>date</th>\n",
              "      <th>county</th>\n",
              "      <th>state</th>\n",
              "      <th>fips</th>\n",
              "      <th>cases</th>\n",
              "      <th>deaths</th>\n",
              "    </tr>\n",
              "  </thead>\n",
              "  <tbody>\n",
              "    <tr>\n",
              "      <th>0</th>\n",
              "      <td>2020-01-21</td>\n",
              "      <td>Snohomish</td>\n",
              "      <td>Washington</td>\n",
              "      <td>53061.0</td>\n",
              "      <td>1</td>\n",
              "      <td>0</td>\n",
              "    </tr>\n",
              "    <tr>\n",
              "      <th>1</th>\n",
              "      <td>2020-01-22</td>\n",
              "      <td>Snohomish</td>\n",
              "      <td>Washington</td>\n",
              "      <td>53061.0</td>\n",
              "      <td>1</td>\n",
              "      <td>0</td>\n",
              "    </tr>\n",
              "    <tr>\n",
              "      <th>2</th>\n",
              "      <td>2020-01-23</td>\n",
              "      <td>Snohomish</td>\n",
              "      <td>Washington</td>\n",
              "      <td>53061.0</td>\n",
              "      <td>1</td>\n",
              "      <td>0</td>\n",
              "    </tr>\n",
              "    <tr>\n",
              "      <th>3</th>\n",
              "      <td>2020-01-24</td>\n",
              "      <td>Cook</td>\n",
              "      <td>Illinois</td>\n",
              "      <td>17031.0</td>\n",
              "      <td>1</td>\n",
              "      <td>0</td>\n",
              "    </tr>\n",
              "    <tr>\n",
              "      <th>4</th>\n",
              "      <td>2020-01-24</td>\n",
              "      <td>Snohomish</td>\n",
              "      <td>Washington</td>\n",
              "      <td>53061.0</td>\n",
              "      <td>1</td>\n",
              "      <td>0</td>\n",
              "    </tr>\n",
              "  </tbody>\n",
              "</table>\n",
              "</div>"
            ],
            "text/plain": [
              "         date     county       state     fips  cases  deaths\n",
              "0  2020-01-21  Snohomish  Washington  53061.0      1       0\n",
              "1  2020-01-22  Snohomish  Washington  53061.0      1       0\n",
              "2  2020-01-23  Snohomish  Washington  53061.0      1       0\n",
              "3  2020-01-24       Cook    Illinois  17031.0      1       0\n",
              "4  2020-01-24  Snohomish  Washington  53061.0      1       0"
            ]
          },
          "metadata": {
            "tags": []
          },
          "execution_count": 8
        }
      ]
    },
    {
      "cell_type": "code",
      "metadata": {
        "id": "BQUOb_cWFv7v",
        "colab_type": "code",
        "colab": {}
      },
      "source": [
        "#counties['state'].mean()"
      ],
      "execution_count": 9,
      "outputs": []
    },
    {
      "cell_type": "code",
      "metadata": {
        "id": "6DzepV6Gs9S7",
        "colab_type": "code",
        "colab": {
          "base_uri": "https://localhost:8080/",
          "height": 419
        },
        "outputId": "9ed262ff-5eda-4fb3-9524-e028857afca2"
      },
      "source": [
        "md_counties = counties[counties['state']=='Maryland']\n",
        "md_counties"
      ],
      "execution_count": 10,
      "outputs": [
        {
          "output_type": "execute_result",
          "data": {
            "text/html": [
              "<div>\n",
              "<style scoped>\n",
              "    .dataframe tbody tr th:only-of-type {\n",
              "        vertical-align: middle;\n",
              "    }\n",
              "\n",
              "    .dataframe tbody tr th {\n",
              "        vertical-align: top;\n",
              "    }\n",
              "\n",
              "    .dataframe thead th {\n",
              "        text-align: right;\n",
              "    }\n",
              "</style>\n",
              "<table border=\"1\" class=\"dataframe\">\n",
              "  <thead>\n",
              "    <tr style=\"text-align: right;\">\n",
              "      <th></th>\n",
              "      <th>date</th>\n",
              "      <th>county</th>\n",
              "      <th>state</th>\n",
              "      <th>fips</th>\n",
              "      <th>cases</th>\n",
              "      <th>deaths</th>\n",
              "    </tr>\n",
              "  </thead>\n",
              "  <tbody>\n",
              "    <tr>\n",
              "      <th>555</th>\n",
              "      <td>2020-03-05</td>\n",
              "      <td>Montgomery</td>\n",
              "      <td>Maryland</td>\n",
              "      <td>24031.0</td>\n",
              "      <td>3</td>\n",
              "      <td>0</td>\n",
              "    </tr>\n",
              "    <tr>\n",
              "      <th>615</th>\n",
              "      <td>2020-03-06</td>\n",
              "      <td>Montgomery</td>\n",
              "      <td>Maryland</td>\n",
              "      <td>24031.0</td>\n",
              "      <td>3</td>\n",
              "      <td>0</td>\n",
              "    </tr>\n",
              "    <tr>\n",
              "      <th>700</th>\n",
              "      <td>2020-03-07</td>\n",
              "      <td>Montgomery</td>\n",
              "      <td>Maryland</td>\n",
              "      <td>24031.0</td>\n",
              "      <td>3</td>\n",
              "      <td>0</td>\n",
              "    </tr>\n",
              "    <tr>\n",
              "      <th>801</th>\n",
              "      <td>2020-03-08</td>\n",
              "      <td>Harford</td>\n",
              "      <td>Maryland</td>\n",
              "      <td>24025.0</td>\n",
              "      <td>1</td>\n",
              "      <td>0</td>\n",
              "    </tr>\n",
              "    <tr>\n",
              "      <th>802</th>\n",
              "      <td>2020-03-08</td>\n",
              "      <td>Montgomery</td>\n",
              "      <td>Maryland</td>\n",
              "      <td>24031.0</td>\n",
              "      <td>4</td>\n",
              "      <td>0</td>\n",
              "    </tr>\n",
              "    <tr>\n",
              "      <th>...</th>\n",
              "      <td>...</td>\n",
              "      <td>...</td>\n",
              "      <td>...</td>\n",
              "      <td>...</td>\n",
              "      <td>...</td>\n",
              "      <td>...</td>\n",
              "    </tr>\n",
              "    <tr>\n",
              "      <th>425824</th>\n",
              "      <td>2020-08-12</td>\n",
              "      <td>Talbot</td>\n",
              "      <td>Maryland</td>\n",
              "      <td>24041.0</td>\n",
              "      <td>404</td>\n",
              "      <td>4</td>\n",
              "    </tr>\n",
              "    <tr>\n",
              "      <th>425825</th>\n",
              "      <td>2020-08-12</td>\n",
              "      <td>Unknown</td>\n",
              "      <td>Maryland</td>\n",
              "      <td>NaN</td>\n",
              "      <td>0</td>\n",
              "      <td>14</td>\n",
              "    </tr>\n",
              "    <tr>\n",
              "      <th>425826</th>\n",
              "      <td>2020-08-12</td>\n",
              "      <td>Washington</td>\n",
              "      <td>Maryland</td>\n",
              "      <td>24043.0</td>\n",
              "      <td>1041</td>\n",
              "      <td>31</td>\n",
              "    </tr>\n",
              "    <tr>\n",
              "      <th>425827</th>\n",
              "      <td>2020-08-12</td>\n",
              "      <td>Wicomico</td>\n",
              "      <td>Maryland</td>\n",
              "      <td>24045.0</td>\n",
              "      <td>1361</td>\n",
              "      <td>45</td>\n",
              "    </tr>\n",
              "    <tr>\n",
              "      <th>425828</th>\n",
              "      <td>2020-08-12</td>\n",
              "      <td>Worcester</td>\n",
              "      <td>Maryland</td>\n",
              "      <td>24047.0</td>\n",
              "      <td>705</td>\n",
              "      <td>20</td>\n",
              "    </tr>\n",
              "  </tbody>\n",
              "</table>\n",
              "<p>3670 rows × 6 columns</p>\n",
              "</div>"
            ],
            "text/plain": [
              "              date      county     state     fips  cases  deaths\n",
              "555     2020-03-05  Montgomery  Maryland  24031.0      3       0\n",
              "615     2020-03-06  Montgomery  Maryland  24031.0      3       0\n",
              "700     2020-03-07  Montgomery  Maryland  24031.0      3       0\n",
              "801     2020-03-08     Harford  Maryland  24025.0      1       0\n",
              "802     2020-03-08  Montgomery  Maryland  24031.0      4       0\n",
              "...            ...         ...       ...      ...    ...     ...\n",
              "425824  2020-08-12      Talbot  Maryland  24041.0    404       4\n",
              "425825  2020-08-12     Unknown  Maryland      NaN      0      14\n",
              "425826  2020-08-12  Washington  Maryland  24043.0   1041      31\n",
              "425827  2020-08-12    Wicomico  Maryland  24045.0   1361      45\n",
              "425828  2020-08-12   Worcester  Maryland  24047.0    705      20\n",
              "\n",
              "[3670 rows x 6 columns]"
            ]
          },
          "metadata": {
            "tags": []
          },
          "execution_count": 10
        }
      ]
    },
    {
      "cell_type": "code",
      "metadata": {
        "id": "QGIbGpLCtuoT",
        "colab_type": "code",
        "colab": {
          "base_uri": "https://localhost:8080/",
          "height": 136
        },
        "outputId": "1fe9e679-8196-4b51-d500-ec1b37a486a4"
      },
      "source": [
        "### Checking fo null data \n",
        "null_check(md_counties)"
      ],
      "execution_count": 11,
      "outputs": [
        {
          "output_type": "stream",
          "text": [
            "date        0\n",
            "county      0\n",
            "state       0\n",
            "fips      122\n",
            "cases       0\n",
            "deaths      0\n",
            "dtype: int64\n"
          ],
          "name": "stdout"
        }
      ]
    },
    {
      "cell_type": "code",
      "metadata": {
        "id": "hxo9GqZK41uZ",
        "colab_type": "code",
        "colab": {
          "base_uri": "https://localhost:8080/",
          "height": 459
        },
        "outputId": "edd0cac4-c7d6-4afd-cae8-d8115b8478aa"
      },
      "source": [
        "##### Counts of counties shows pretty even sampling across counties. \n",
        "md_counties_vc = md_counties['county'].value_counts()\n",
        "md_counties_vc"
      ],
      "execution_count": 12,
      "outputs": [
        {
          "output_type": "execute_result",
          "data": {
            "text/plain": [
              "Montgomery         161\n",
              "Harford            158\n",
              "Prince George's    157\n",
              "Baltimore          155\n",
              "Anne Arundel       153\n",
              "Charles            153\n",
              "Carroll            152\n",
              "Baltimore city     151\n",
              "Howard             151\n",
              "Talbot             150\n",
              "Frederick          150\n",
              "Wicomico           147\n",
              "Calvert            147\n",
              "Worcester          146\n",
              "Caroline           145\n",
              "Somerset           145\n",
              "Washington         145\n",
              "Cecil              144\n",
              "St. Mary's         144\n",
              "Garrett            143\n",
              "Queen Anne's       143\n",
              "Kent               141\n",
              "Dorchester         134\n",
              "Allegany           133\n",
              "Unknown            122\n",
              "Name: county, dtype: int64"
            ]
          },
          "metadata": {
            "tags": []
          },
          "execution_count": 12
        }
      ]
    },
    {
      "cell_type": "code",
      "metadata": {
        "id": "Va8f2timFGcM",
        "colab_type": "code",
        "colab": {
          "base_uri": "https://localhost:8080/",
          "height": 117
        },
        "outputId": "6850ce60-07f4-4cbf-a0b1-f65fad22f001"
      },
      "source": [
        "#Creating a list of county names in md\n",
        "mdcounty_list = pd.DataFrame(md_counties_vc)\n",
        "mdcounty_list = mdcounty_list.T\n",
        "mdcounty_list"
      ],
      "execution_count": 13,
      "outputs": [
        {
          "output_type": "execute_result",
          "data": {
            "text/html": [
              "<div>\n",
              "<style scoped>\n",
              "    .dataframe tbody tr th:only-of-type {\n",
              "        vertical-align: middle;\n",
              "    }\n",
              "\n",
              "    .dataframe tbody tr th {\n",
              "        vertical-align: top;\n",
              "    }\n",
              "\n",
              "    .dataframe thead th {\n",
              "        text-align: right;\n",
              "    }\n",
              "</style>\n",
              "<table border=\"1\" class=\"dataframe\">\n",
              "  <thead>\n",
              "    <tr style=\"text-align: right;\">\n",
              "      <th></th>\n",
              "      <th>Montgomery</th>\n",
              "      <th>Harford</th>\n",
              "      <th>Prince George's</th>\n",
              "      <th>Baltimore</th>\n",
              "      <th>Anne Arundel</th>\n",
              "      <th>Charles</th>\n",
              "      <th>Carroll</th>\n",
              "      <th>Baltimore city</th>\n",
              "      <th>Howard</th>\n",
              "      <th>Talbot</th>\n",
              "      <th>Frederick</th>\n",
              "      <th>Wicomico</th>\n",
              "      <th>Calvert</th>\n",
              "      <th>Worcester</th>\n",
              "      <th>Caroline</th>\n",
              "      <th>Somerset</th>\n",
              "      <th>Washington</th>\n",
              "      <th>Cecil</th>\n",
              "      <th>St. Mary's</th>\n",
              "      <th>Garrett</th>\n",
              "      <th>Queen Anne's</th>\n",
              "      <th>Kent</th>\n",
              "      <th>Dorchester</th>\n",
              "      <th>Allegany</th>\n",
              "      <th>Unknown</th>\n",
              "    </tr>\n",
              "  </thead>\n",
              "  <tbody>\n",
              "    <tr>\n",
              "      <th>county</th>\n",
              "      <td>161</td>\n",
              "      <td>158</td>\n",
              "      <td>157</td>\n",
              "      <td>155</td>\n",
              "      <td>153</td>\n",
              "      <td>153</td>\n",
              "      <td>152</td>\n",
              "      <td>151</td>\n",
              "      <td>151</td>\n",
              "      <td>150</td>\n",
              "      <td>150</td>\n",
              "      <td>147</td>\n",
              "      <td>147</td>\n",
              "      <td>146</td>\n",
              "      <td>145</td>\n",
              "      <td>145</td>\n",
              "      <td>145</td>\n",
              "      <td>144</td>\n",
              "      <td>144</td>\n",
              "      <td>143</td>\n",
              "      <td>143</td>\n",
              "      <td>141</td>\n",
              "      <td>134</td>\n",
              "      <td>133</td>\n",
              "      <td>122</td>\n",
              "    </tr>\n",
              "  </tbody>\n",
              "</table>\n",
              "</div>"
            ],
            "text/plain": [
              "        Montgomery  Harford  Prince George's  ...  Dorchester  Allegany  Unknown\n",
              "county         161      158              157  ...         134       133      122\n",
              "\n",
              "[1 rows x 25 columns]"
            ]
          },
          "metadata": {
            "tags": []
          },
          "execution_count": 13
        }
      ]
    },
    {
      "cell_type": "code",
      "metadata": {
        "id": "eWKeYaf6G9al",
        "colab_type": "code",
        "colab": {
          "base_uri": "https://localhost:8080/",
          "height": 442
        },
        "outputId": "b18d1c65-83ba-4dca-9e85-c19d38d54e72"
      },
      "source": [
        "md_county_names = mdcounty_list.columns.tolist()\n",
        "md_county_names"
      ],
      "execution_count": 14,
      "outputs": [
        {
          "output_type": "execute_result",
          "data": {
            "text/plain": [
              "['Montgomery',\n",
              " 'Harford',\n",
              " \"Prince George's\",\n",
              " 'Baltimore',\n",
              " 'Anne Arundel',\n",
              " 'Charles',\n",
              " 'Carroll',\n",
              " 'Baltimore city',\n",
              " 'Howard',\n",
              " 'Talbot',\n",
              " 'Frederick',\n",
              " 'Wicomico',\n",
              " 'Calvert',\n",
              " 'Worcester',\n",
              " 'Caroline',\n",
              " 'Somerset',\n",
              " 'Washington',\n",
              " 'Cecil',\n",
              " \"St. Mary's\",\n",
              " 'Garrett',\n",
              " \"Queen Anne's\",\n",
              " 'Kent',\n",
              " 'Dorchester',\n",
              " 'Allegany',\n",
              " 'Unknown']"
            ]
          },
          "metadata": {
            "tags": []
          },
          "execution_count": 14
        }
      ]
    },
    {
      "cell_type": "code",
      "metadata": {
        "id": "npy3h0tWIyds",
        "colab_type": "code",
        "colab": {}
      },
      "source": [
        "#The whole process as a function to speed up later states. \n",
        "def col_list(dataframe):\n",
        "  val_counts = dataframe.value_counts()\n",
        "  val_as_pd  = pd.DataFrame(val_counts).T\n",
        "  val_list   = val_as_pd.columns.tolist()\n",
        "  return val_list"
      ],
      "execution_count": 15,
      "outputs": []
    },
    {
      "cell_type": "code",
      "metadata": {
        "id": "GTK8M0x4KkkR",
        "colab_type": "code",
        "colab": {
          "base_uri": "https://localhost:8080/",
          "height": 442
        },
        "outputId": "9d76e2a5-8d15-4129-f1fe-1b1af5fe56ef"
      },
      "source": [
        "md_county_names = col_list(md_counties['county']) ###<<< - - - - Testing listing function\n",
        "md_county_names"
      ],
      "execution_count": 16,
      "outputs": [
        {
          "output_type": "execute_result",
          "data": {
            "text/plain": [
              "['Montgomery',\n",
              " 'Harford',\n",
              " \"Prince George's\",\n",
              " 'Baltimore',\n",
              " 'Anne Arundel',\n",
              " 'Charles',\n",
              " 'Carroll',\n",
              " 'Baltimore city',\n",
              " 'Howard',\n",
              " 'Talbot',\n",
              " 'Frederick',\n",
              " 'Wicomico',\n",
              " 'Calvert',\n",
              " 'Worcester',\n",
              " 'Caroline',\n",
              " 'Somerset',\n",
              " 'Washington',\n",
              " 'Cecil',\n",
              " \"St. Mary's\",\n",
              " 'Garrett',\n",
              " \"Queen Anne's\",\n",
              " 'Kent',\n",
              " 'Dorchester',\n",
              " 'Allegany',\n",
              " 'Unknown']"
            ]
          },
          "metadata": {
            "tags": []
          },
          "execution_count": 16
        }
      ]
    },
    {
      "cell_type": "code",
      "metadata": {
        "id": "6OXs-Re4M74m",
        "colab_type": "code",
        "colab": {}
      },
      "source": [
        "#Finding average cases per county during the entire time of recording\n",
        "#Starting with Baltimore"
      ],
      "execution_count": 17,
      "outputs": []
    },
    {
      "cell_type": "code",
      "metadata": {
        "id": "7irYBv--NvY6",
        "colab_type": "code",
        "colab": {
          "base_uri": "https://localhost:8080/",
          "height": 419
        },
        "outputId": "533f9740-2fbf-4e84-a661-5ca328d3cfb7"
      },
      "source": [
        "baltimore = md_counties[md_counties['county']=='Baltimore']\n",
        "baltimore"
      ],
      "execution_count": 18,
      "outputs": [
        {
          "output_type": "execute_result",
          "data": {
            "text/html": [
              "<div>\n",
              "<style scoped>\n",
              "    .dataframe tbody tr th:only-of-type {\n",
              "        vertical-align: middle;\n",
              "    }\n",
              "\n",
              "    .dataframe tbody tr th {\n",
              "        vertical-align: top;\n",
              "    }\n",
              "\n",
              "    .dataframe thead th {\n",
              "        text-align: right;\n",
              "    }\n",
              "</style>\n",
              "<table border=\"1\" class=\"dataframe\">\n",
              "  <thead>\n",
              "    <tr style=\"text-align: right;\">\n",
              "      <th></th>\n",
              "      <th>date</th>\n",
              "      <th>county</th>\n",
              "      <th>state</th>\n",
              "      <th>fips</th>\n",
              "      <th>cases</th>\n",
              "      <th>deaths</th>\n",
              "    </tr>\n",
              "  </thead>\n",
              "  <tbody>\n",
              "    <tr>\n",
              "      <th>1249</th>\n",
              "      <td>2020-03-11</td>\n",
              "      <td>Baltimore</td>\n",
              "      <td>Maryland</td>\n",
              "      <td>24005.0</td>\n",
              "      <td>1</td>\n",
              "      <td>0</td>\n",
              "    </tr>\n",
              "    <tr>\n",
              "      <th>1467</th>\n",
              "      <td>2020-03-12</td>\n",
              "      <td>Baltimore</td>\n",
              "      <td>Maryland</td>\n",
              "      <td>24005.0</td>\n",
              "      <td>1</td>\n",
              "      <td>0</td>\n",
              "    </tr>\n",
              "    <tr>\n",
              "      <th>1745</th>\n",
              "      <td>2020-03-13</td>\n",
              "      <td>Baltimore</td>\n",
              "      <td>Maryland</td>\n",
              "      <td>24005.0</td>\n",
              "      <td>2</td>\n",
              "      <td>0</td>\n",
              "    </tr>\n",
              "    <tr>\n",
              "      <th>2085</th>\n",
              "      <td>2020-03-14</td>\n",
              "      <td>Baltimore</td>\n",
              "      <td>Maryland</td>\n",
              "      <td>24005.0</td>\n",
              "      <td>3</td>\n",
              "      <td>0</td>\n",
              "    </tr>\n",
              "    <tr>\n",
              "      <th>2484</th>\n",
              "      <td>2020-03-15</td>\n",
              "      <td>Baltimore</td>\n",
              "      <td>Maryland</td>\n",
              "      <td>24005.0</td>\n",
              "      <td>3</td>\n",
              "      <td>0</td>\n",
              "    </tr>\n",
              "    <tr>\n",
              "      <th>...</th>\n",
              "      <td>...</td>\n",
              "      <td>...</td>\n",
              "      <td>...</td>\n",
              "      <td>...</td>\n",
              "      <td>...</td>\n",
              "      <td>...</td>\n",
              "    </tr>\n",
              "    <tr>\n",
              "      <th>412921</th>\n",
              "      <td>2020-08-08</td>\n",
              "      <td>Baltimore</td>\n",
              "      <td>Maryland</td>\n",
              "      <td>24005.0</td>\n",
              "      <td>13082</td>\n",
              "      <td>561</td>\n",
              "    </tr>\n",
              "    <tr>\n",
              "      <th>416141</th>\n",
              "      <td>2020-08-09</td>\n",
              "      <td>Baltimore</td>\n",
              "      <td>Maryland</td>\n",
              "      <td>24005.0</td>\n",
              "      <td>13279</td>\n",
              "      <td>563</td>\n",
              "    </tr>\n",
              "    <tr>\n",
              "      <th>419362</th>\n",
              "      <td>2020-08-10</td>\n",
              "      <td>Baltimore</td>\n",
              "      <td>Maryland</td>\n",
              "      <td>24005.0</td>\n",
              "      <td>13422</td>\n",
              "      <td>563</td>\n",
              "    </tr>\n",
              "    <tr>\n",
              "      <th>422584</th>\n",
              "      <td>2020-08-11</td>\n",
              "      <td>Baltimore</td>\n",
              "      <td>Maryland</td>\n",
              "      <td>24005.0</td>\n",
              "      <td>13396</td>\n",
              "      <td>566</td>\n",
              "    </tr>\n",
              "    <tr>\n",
              "      <th>425806</th>\n",
              "      <td>2020-08-12</td>\n",
              "      <td>Baltimore</td>\n",
              "      <td>Maryland</td>\n",
              "      <td>24005.0</td>\n",
              "      <td>13485</td>\n",
              "      <td>567</td>\n",
              "    </tr>\n",
              "  </tbody>\n",
              "</table>\n",
              "<p>155 rows × 6 columns</p>\n",
              "</div>"
            ],
            "text/plain": [
              "              date     county     state     fips  cases  deaths\n",
              "1249    2020-03-11  Baltimore  Maryland  24005.0      1       0\n",
              "1467    2020-03-12  Baltimore  Maryland  24005.0      1       0\n",
              "1745    2020-03-13  Baltimore  Maryland  24005.0      2       0\n",
              "2085    2020-03-14  Baltimore  Maryland  24005.0      3       0\n",
              "2484    2020-03-15  Baltimore  Maryland  24005.0      3       0\n",
              "...            ...        ...       ...      ...    ...     ...\n",
              "412921  2020-08-08  Baltimore  Maryland  24005.0  13082     561\n",
              "416141  2020-08-09  Baltimore  Maryland  24005.0  13279     563\n",
              "419362  2020-08-10  Baltimore  Maryland  24005.0  13422     563\n",
              "422584  2020-08-11  Baltimore  Maryland  24005.0  13396     566\n",
              "425806  2020-08-12  Baltimore  Maryland  24005.0  13485     567\n",
              "\n",
              "[155 rows x 6 columns]"
            ]
          },
          "metadata": {
            "tags": []
          },
          "execution_count": 18
        }
      ]
    },
    {
      "cell_type": "code",
      "metadata": {
        "id": "dQF_IFcSOHpe",
        "colab_type": "code",
        "colab": {}
      },
      "source": [
        "balt_mean = baltimore['cases'].mean()"
      ],
      "execution_count": 19,
      "outputs": []
    },
    {
      "cell_type": "code",
      "metadata": {
        "id": "BZrssgD_OuOu",
        "colab_type": "code",
        "colab": {
          "base_uri": "https://localhost:8080/",
          "height": 34
        },
        "outputId": "29f35cb7-fafd-4fb7-b533-e26cf0e10334"
      },
      "source": [
        "baltimore_daily_average = balt_mean/len(baltimore)\n",
        "baltimore_daily_average"
      ],
      "execution_count": 20,
      "outputs": [
        {
          "output_type": "execute_result",
          "data": {
            "text/plain": [
              "35.56853277835588"
            ]
          },
          "metadata": {
            "tags": []
          },
          "execution_count": 20
        }
      ]
    },
    {
      "cell_type": "code",
      "metadata": {
        "id": "Qd753hV5Q7UR",
        "colab_type": "code",
        "colab": {}
      },
      "source": [
        "### Create function to do this faster for later \n",
        "\n",
        "def cnty_daily_avg(dataframe, countyname):\n",
        "  county = dataframe[dataframe['county']==countyname]\n",
        "  mean   = county['cases'].mean()\n",
        "  avg    = mean/len(county)\n",
        "  dat    = [countyname,avg]\n",
        "  return dat\n"
      ],
      "execution_count": 21,
      "outputs": []
    },
    {
      "cell_type": "code",
      "metadata": {
        "id": "77_Ccx0aNoX4",
        "colab_type": "code",
        "colab": {
          "base_uri": "https://localhost:8080/",
          "height": 34
        },
        "outputId": "6a32cd24-0dad-4e11-a4ab-0fd294edddcb"
      },
      "source": [
        "harf_avg = cnty_daily_avg(md_counties, 'Harford')\n",
        "harf_avg"
      ],
      "execution_count": 22,
      "outputs": [
        {
          "output_type": "execute_result",
          "data": {
            "text/plain": [
              "['Harford', 4.924651498157347]"
            ]
          },
          "metadata": {
            "tags": []
          },
          "execution_count": 22
        }
      ]
    },
    {
      "cell_type": "code",
      "metadata": {
        "id": "6MumdlbtVlIk",
        "colab_type": "code",
        "colab": {
          "base_uri": "https://localhost:8080/",
          "height": 34
        },
        "outputId": "9727fdbd-b811-4dde-a1c9-a2695a8a81b0"
      },
      "source": [
        "balt_avg = cnty_daily_avg(md_counties, 'Baltimore') #< - - - thank god I dont have to do this hundreds of times manually\n",
        "balt_avg"
      ],
      "execution_count": 23,
      "outputs": [
        {
          "output_type": "execute_result",
          "data": {
            "text/plain": [
              "['Baltimore', 35.56853277835588]"
            ]
          },
          "metadata": {
            "tags": []
          },
          "execution_count": 23
        }
      ]
    },
    {
      "cell_type": "code",
      "metadata": {
        "id": "ul9JGDBPqIMw",
        "colab_type": "code",
        "colab": {}
      },
      "source": [
        "#Apply function to all counties and create a dataframe\n",
        "data_list = []"
      ],
      "execution_count": 24,
      "outputs": []
    },
    {
      "cell_type": "code",
      "metadata": {
        "id": "K5XS-y8-gzUg",
        "colab_type": "code",
        "colab": {}
      },
      "source": [
        "def daily_df(dataframe, county,):\n",
        "  data_list = []\n",
        "  for i in county:\n",
        "    data_list.append(cnty_daily_avg(dataframe, i)) \n",
        "  return data_list"
      ],
      "execution_count": 25,
      "outputs": []
    },
    {
      "cell_type": "code",
      "metadata": {
        "id": "-D97ERVZiKMJ",
        "colab_type": "code",
        "colab": {
          "base_uri": "https://localhost:8080/",
          "height": 442
        },
        "outputId": "b699c81f-d508-4085-eeb1-0c32f75a750b"
      },
      "source": [
        "md_daily_avg = daily_df(md_counties, md_county_names)\n",
        "md_daily_avg"
      ],
      "execution_count": 28,
      "outputs": [
        {
          "output_type": "execute_result",
          "data": {
            "text/plain": [
              "[['Montgomery', 55.658115041857954],\n",
              " ['Harford', 4.924651498157347],\n",
              " [\"Prince George's\", 77.00523347803156],\n",
              " ['Baltimore', 35.56853277835588],\n",
              " ['Anne Arundel', 22.200991071809987],\n",
              " ['Charles', 6.271092314921611],\n",
              " ['Carroll', 5.063408933518006],\n",
              " ['Baltimore city', 34.40892943291961],\n",
              " ['Howard', 11.621770974957238],\n",
              " ['Talbot', 0.7816444444444445],\n",
              " ['Frederick', 10.995911111111111],\n",
              " ['Wicomico', 5.04789670970429],\n",
              " ['Calvert', 2.068721366097459],\n",
              " ['Worcester', 1.536686057421655],\n",
              " ['Caroline', 1.4961712247324612],\n",
              " ['Somerset', 0.4376218787158145],\n",
              " ['Washington', 3.190202140309156],\n",
              " ['Cecil', 2.416280864197531],\n",
              " [\"St. Mary's\", 3.0930748456790123],\n",
              " ['Garrett', 0.10289011687613087],\n",
              " [\"Queen Anne's\", 1.1982004009976037],\n",
              " ['Kent', 1.0109652431970224],\n",
              " ['Dorchester', 1.1642347961684116],\n",
              " ['Allegany', 1.257561196223642],\n",
              " ['Unknown', 0.026404192421392098]]"
            ]
          },
          "metadata": {
            "tags": []
          },
          "execution_count": 28
        }
      ]
    },
    {
      "cell_type": "code",
      "metadata": {
        "id": "VoDjX1BM3IA6",
        "colab_type": "code",
        "colab": {}
      },
      "source": [
        "###Doing everything we did above with one script! Boo Yah!\n",
        "def prep_counties(df, state):\n",
        "  state = df[df['state']==state]\n",
        "  county_names = col_list(state['county']) \n",
        "  ste = state[state['county']=='Baltimore']\n",
        "  state_daily_avg = daily_df(state, county_names,)\n",
        "  return pd.DataFrame(state_daily_avg, columns=['county','daily_avg'])"
      ],
      "execution_count": null,
      "outputs": []
    },
    {
      "cell_type": "code",
      "metadata": {
        "id": "HBBIyIDD6iDl",
        "colab_type": "code",
        "colab": {}
      },
      "source": [
        "virginia = prep_counties(counties, 'Virginia')\n",
        "virginia"
      ],
      "execution_count": null,
      "outputs": []
    },
    {
      "cell_type": "code",
      "metadata": {
        "id": "zu-jTXo07wt0",
        "colab_type": "code",
        "colab": {}
      },
      "source": [
        "#Lets get a list of states we have data on and apply this to all of our data. \n",
        "states_count = col_list(counties['state'])\n",
        "states_count"
      ],
      "execution_count": null,
      "outputs": []
    },
    {
      "cell_type": "code",
      "metadata": {
        "id": "Kvevz5ifB6tF",
        "colab_type": "code",
        "colab": {}
      },
      "source": [
        "def counties_daily_avg(dataframe, state_list):\n",
        "  data_df = []\n",
        "  for i in state_list :\n",
        "    data_df.append(prep_counties(dataframe, i)) \n",
        "  return data_df"
      ],
      "execution_count": null,
      "outputs": []
    },
    {
      "cell_type": "markdown",
      "metadata": {
        "id": "C8hJOx0MCmIF",
        "colab_type": "text"
      },
      "source": [
        "##States"
      ]
    },
    {
      "cell_type": "code",
      "metadata": {
        "id": "tfUIKWt7p4Qp",
        "colab_type": "code",
        "colab": {}
      },
      "source": [
        "explore(states)"
      ],
      "execution_count": null,
      "outputs": []
    },
    {
      "cell_type": "code",
      "metadata": {
        "id": "KnY1_eAvbmgE",
        "colab_type": "code",
        "colab": {}
      },
      "source": [
        "md = states[states['state'] == 'MD']\n",
        "md"
      ],
      "execution_count": null,
      "outputs": []
    },
    {
      "cell_type": "code",
      "metadata": {
        "id": "QurYDl_6fMkZ",
        "colab_type": "code",
        "colab": {}
      },
      "source": [
        "md['positive'].plot(figsize=(10,10))"
      ],
      "execution_count": null,
      "outputs": []
    },
    {
      "cell_type": "markdown",
      "metadata": {
        "id": "dj_qn9zkCs_O",
        "colab_type": "text"
      },
      "source": [
        "##US\n"
      ]
    },
    {
      "cell_type": "code",
      "metadata": {
        "id": "_lx3Qsyhsg5o",
        "colab_type": "code",
        "colab": {}
      },
      "source": [
        "explore(us)"
      ],
      "execution_count": null,
      "outputs": []
    }
  ]
}