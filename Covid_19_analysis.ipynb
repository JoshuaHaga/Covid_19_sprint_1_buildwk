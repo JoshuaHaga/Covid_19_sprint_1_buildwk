{
  "nbformat": 4,
  "nbformat_minor": 0,
  "metadata": {
    "colab": {
      "name": "Covid_19_analysis.ipynb",
      "provenance": [],
      "authorship_tag": "ABX9TyOE2XI0TEc2B1CrZKwfSh0f",
      "include_colab_link": true
    },
    "kernelspec": {
      "name": "python3",
      "display_name": "Python 3"
    }
  },
  "cells": [
    {
      "cell_type": "markdown",
      "metadata": {
        "id": "view-in-github",
        "colab_type": "text"
      },
      "source": [
        "<a href=\"https://colab.research.google.com/github/JoshuaHaga/Covid_19_sprint_1_buildwk/blob/master/Covid_19_analysis.ipynb\" target=\"_parent\"><img src=\"https://colab.research.google.com/assets/colab-badge.svg\" alt=\"Open In Colab\"/></a>"
      ]
    },
    {
      "cell_type": "code",
      "metadata": {
        "id": "tLCyNyNMqP5l",
        "colab_type": "code",
        "colab": {}
      },
      "source": [
        "### Must run cell below to load data ###"
      ],
      "execution_count": null,
      "outputs": []
    },
    {
      "cell_type": "code",
      "metadata": {
        "id": "nrtC-u55iKPE",
        "colab_type": "code",
        "colab": {
          "base_uri": "https://localhost:8080/",
          "height": 343
        },
        "outputId": "a8450fdf-5b88-4559-fed8-ad6000831dfd"
      },
      "source": [
        "!wget 'https://storage.googleapis.com/kaggle-data-sets/555089%2F1416097%2Fbundle%2Farchive.zip?GoogleAccessId=gcp-kaggle-com@kaggle-161607.iam.gserviceaccount.com&Expires=1598147753&Signature=IukcSTm6w5zUlHaMV4oEP54bDH7VN6pQZQ5IXC5lPv0iVDEdglpdZ3muSmSpuCc56KZKg4zErk2hCG5BocMkfIwGNamqjqJtdHJFKdL4LC2jU%2B71KL%2BVFwfpv6q907o7MztOCZ44oC444RnrTDiobim5%2FdcBZAJ2GYLKpV3TdavOVMtWxhnWDs1r0BhwLLlWFINNa5eRfpmSn9n5MDSkBwZGq9nmmNMVjJHRv%2FRTfflREET2aTC8hPBFSQQN57Wk6HBvWzSzWrbxv91qZ0RU8EY%2BocXQ7jjshUxJzNr1%2BAqlmSIEB9azuFGzUw0JeJoXzbLjS59PLj3R0k2TMEUb%2Fg%3D%3D'\n",
        "!unzip '/content/555089%2F1416097%2Fbundle%2Farchive.zip?GoogleAccessId=gcp-kaggle-com@kaggle-161607.iam.gserviceaccount.com&Expires=1598147753&Signature=IukcSTm6w5zUlHaMV4oEP54bDH7VN6pQZQ5IXC5lPv0iVDEdglpdZ3muSmSpuCc56KZKg4zErk2hCG5BocMkfIwGNamqjqJtdHJ'"
      ],
      "execution_count": 87,
      "outputs": [
        {
          "output_type": "stream",
          "text": [
            "The name is too long, 487 chars total.\n",
            "Trying to shorten...\n",
            "New name is 555089%2F1416097%2Fbundle%2Farchive.zip?GoogleAccessId=gcp-kaggle-com@kaggle-161607.iam.gserviceaccount.com&Expires=1598147753&Signature=IukcSTm6w5zUlHaMV4oEP54bDH7VN6pQZQ5IXC5lPv0iVDEdglpdZ3muSmSpuCc56KZKg4zErk2hCG5BocMkfIwGNamqjqJtdHJ.\n",
            "--2020-08-21 03:20:32--  https://storage.googleapis.com/kaggle-data-sets/555089%2F1416097%2Fbundle%2Farchive.zip?GoogleAccessId=gcp-kaggle-com@kaggle-161607.iam.gserviceaccount.com&Expires=1598147753&Signature=IukcSTm6w5zUlHaMV4oEP54bDH7VN6pQZQ5IXC5lPv0iVDEdglpdZ3muSmSpuCc56KZKg4zErk2hCG5BocMkfIwGNamqjqJtdHJFKdL4LC2jU%2B71KL%2BVFwfpv6q907o7MztOCZ44oC444RnrTDiobim5%2FdcBZAJ2GYLKpV3TdavOVMtWxhnWDs1r0BhwLLlWFINNa5eRfpmSn9n5MDSkBwZGq9nmmNMVjJHRv%2FRTfflREET2aTC8hPBFSQQN57Wk6HBvWzSzWrbxv91qZ0RU8EY%2BocXQ7jjshUxJzNr1%2BAqlmSIEB9azuFGzUw0JeJoXzbLjS59PLj3R0k2TMEUb%2Fg%3D%3D\n",
            "Resolving storage.googleapis.com (storage.googleapis.com)... 173.194.217.128, 172.217.204.128, 172.217.203.128, ...\n",
            "Connecting to storage.googleapis.com (storage.googleapis.com)|173.194.217.128|:443... connected.\n",
            "HTTP request sent, awaiting response... 200 OK\n",
            "Length: 5091268 (4.9M) [application/zip]\n",
            "Saving to: ‘555089%2F1416097%2Fbundle%2Farchive.zip?GoogleAccessId=gcp-kaggle-com@kaggle-161607.iam.gserviceaccount.com&Expires=1598147753&Signature=IukcSTm6w5zUlHaMV4oEP54bDH7VN6pQZQ5IXC5lPv0iVDEdglpdZ3muSmSpuCc56KZKg4zErk2hCG5BocMkfIwGNamqjqJtdHJ.1’\n",
            "\n",
            "\r          555089%2F   0%[                    ]       0  --.-KB/s               \r555089%2F1416097%2F 100%[===================>]   4.85M  --.-KB/s    in 0.04s   \n",
            "\n",
            "2020-08-21 03:20:32 (120 MB/s) - ‘555089%2F1416097%2Fbundle%2Farchive.zip?GoogleAccessId=gcp-kaggle-com@kaggle-161607.iam.gserviceaccount.com&Expires=1598147753&Signature=IukcSTm6w5zUlHaMV4oEP54bDH7VN6pQZQ5IXC5lPv0iVDEdglpdZ3muSmSpuCc56KZKg4zErk2hCG5BocMkfIwGNamqjqJtdHJ.1’ saved [5091268/5091268]\n",
            "\n",
            "Archive:  /content/555089%2F1416097%2Fbundle%2Farchive.zip?GoogleAccessId=gcp-kaggle-com@kaggle-161607.iam.gserviceaccount.com&Expires=1598147753&Signature=IukcSTm6w5zUlHaMV4oEP54bDH7VN6pQZQ5IXC5lPv0iVDEdglpdZ3muSmSpuCc56KZKg4zErk2hCG5BocMkfIwGNamqjqJtdHJ\n",
            "replace us_counties_covid19_daily.csv? [y]es, [n]o, [A]ll, [N]one, [r]ename: n\n",
            "replace us_covid19_daily.csv? [y]es, [n]o, [A]ll, [N]one, [r]ename: n\n",
            "replace us_states_covid19_daily.csv? [y]es, [n]o, [A]ll, [N]one, [r]ename: n\n"
          ],
          "name": "stdout"
        }
      ]
    },
    {
      "cell_type": "markdown",
      "metadata": {
        "id": "7KU9XF0rl226",
        "colab_type": "text"
      },
      "source": [
        "##COVID-19 in USA"
      ]
    },
    {
      "cell_type": "markdown",
      "metadata": {
        "id": "RnG4yhU5l7wy",
        "colab_type": "text"
      },
      "source": [
        "#Context\n",
        "Data is obtained from COVID-19 Tracking project and NYTimes. Sincere thanks to them for making it available to the public.\n",
        "\n",
        "Coronaviruses are a large family of viruses which may cause illness in animals or humans. In humans, several coronaviruses are known to cause respiratory infections ranging from the common cold to more severe diseases such as Middle East Respiratory Syndrome (MERS) and Severe Acute Respiratory Syndrome (SARS). The most recently discovered coronavirus causes coronavirus disease COVID-19 - World Health Organization\n",
        "\n",
        "The number of new cases are increasing day by day around the world. This dataset has information from 50 US states and the District of Columbia at daily level."
      ]
    },
    {
      "cell_type": "markdown",
      "metadata": {
        "id": "Qe4zTg1ZmMrl",
        "colab_type": "text"
      },
      "source": [
        "The Original Dataset can be found on kaggle by clicking [here](https://www.kaggle.com/sudalairajkumar/covid19-in-usa)."
      ]
    },
    {
      "cell_type": "markdown",
      "metadata": {
        "id": "iYCsKJ7GvkLz",
        "colab_type": "text"
      },
      "source": [
        "#Index\n",
        "All datasets, functions, libraries, and variables used throughout the notebook  will be outlined here. "
      ]
    },
    {
      "cell_type": "markdown",
      "metadata": {
        "id": "N9XoQvZ917NI",
        "colab_type": "text"
      },
      "source": [
        "###Libraries"
      ]
    },
    {
      "cell_type": "code",
      "metadata": {
        "id": "-JmNtiLFqoXY",
        "colab_type": "code",
        "colab": {}
      },
      "source": [
        "import numpy as np\n",
        "import matplotlib.pyplot as plt\n",
        "import pandas as pd\n"
      ],
      "execution_count": 88,
      "outputs": []
    },
    {
      "cell_type": "markdown",
      "metadata": {
        "id": "MJ_HBRHq2Tx-",
        "colab_type": "text"
      },
      "source": [
        "###Datasets"
      ]
    },
    {
      "cell_type": "code",
      "metadata": {
        "id": "zEdxUi4tlubS",
        "colab_type": "code",
        "colab": {}
      },
      "source": [
        "### These 3 dataframes come from the kaggle dataset 'COVID-19 in USA'\n",
        "counties = pd.read_csv('/content/us_counties_covid19_daily.csv')\n",
        "states   = pd.read_csv('/content/us_states_covid19_daily.csv')\n",
        "us       = pd.read_csv('/content/us_states_covid19_daily.csv')"
      ],
      "execution_count": 89,
      "outputs": []
    },
    {
      "cell_type": "markdown",
      "metadata": {
        "id": "VkCv-sf92djk",
        "colab_type": "text"
      },
      "source": [
        "###Functions"
      ]
    },
    {
      "cell_type": "code",
      "metadata": {
        "id": "J6pVBxgRpzqX",
        "colab_type": "code",
        "colab": {}
      },
      "source": [
        "### Checks for null values. \n",
        "def null_check(dataframe):\n",
        "    val = dataframe.isnull().sum()\n",
        "    val_sum = val.sum()\n",
        "    if val_sum == 0:\n",
        "      print('Zero null values.')\n",
        "    else:\n",
        "      print(val)\n",
        "\n",
        "### Finds null counts, shape, describes and previews data set. \n",
        "def explore(dataframe):\n",
        "  print(null_check(dataframe))\n",
        "  print('Shape: ', dataframe.shape)\n",
        "  print(dataframe.describe())\n",
        "  return dataframe.head()\n",
        "\n",
        "### Creates a list from column names\n",
        "def col_list(dataframe):\n",
        "  val_counts = dataframe.value_counts()\n",
        "  val_as_pd  = pd.DataFrame(val_counts).T\n",
        "  val_list   = val_as_pd.columns.tolist()\n",
        "  val_pd     = pd.DataFrame(val_list, columns=['county'])\n",
        "  return val_pd\n",
        "\n",
        "### Calculates daily averages of new cases for counties. Outputs as pandas df\n",
        "def cnty_daily_avg(dataframe, countyname):\n",
        "  county = dataframe[dataframe['county']==countyname]\n",
        "  mean   = county['cases'].mean()\n",
        "  avg    = mean/len(county)\n",
        "  dat    = {'county_name':[countyname],'avg_daily':[avg]}\n",
        "  df     = pd.DataFrame(dat)\n",
        "  return df\n",
        "\n",
        "###Applies county daily average function across dataframe from a list. \n",
        "def daily_df(dataframe, countylist,):\n",
        "  data_list = []\n",
        "  for i in countylist:\n",
        "    data_list.append(cnty_daily_avg(dataframe, i)) \n",
        "  return pd.DataFrame(data_list, columns=['county','daily_avg'])"
      ],
      "execution_count": 90,
      "outputs": []
    },
    {
      "cell_type": "markdown",
      "metadata": {
        "id": "_5MhPXKn6DV4",
        "colab_type": "text"
      },
      "source": [
        "###Variables"
      ]
    },
    {
      "cell_type": "code",
      "metadata": {
        "id": "zP-ys3706HLA",
        "colab_type": "code",
        "colab": {}
      },
      "source": [
        "\n",
        "################################################################################\n",
        "###########################<<---- Maryland ---->>###############################\n",
        "################################################################################\n",
        "###  md_counties                 #< - - - - - - - - - - - All Counties in MD ###\n",
        "###  md_counties_vc              #< - - - - - Value counts of counties in MD ###\n",
        "###  md_county_names             #< - - - - - - - - - List of counties in MD ###\n",
        "###  baltimore_daily_average     #< - - - - Average of new cases daily in MD ###\n",
        "###  md_daily_avg                #< - - Daily averages of all counties in MD ### "
      ],
      "execution_count": 161,
      "outputs": []
    },
    {
      "cell_type": "markdown",
      "metadata": {
        "id": "RtJnWrIc6dvn",
        "colab_type": "text"
      },
      "source": [
        "# Data Exploration"
      ]
    },
    {
      "cell_type": "markdown",
      "metadata": {
        "id": "nayrCYJN6V2r",
        "colab_type": "text"
      },
      "source": [
        "### Introduction:\n",
        "  Here I will. be doing some basic data explorations of the sets listed in the index. I will clean data here and begin to draw conclusions to be processed later. Findings will be collected and expounded upon at the end of this section. "
      ]
    },
    {
      "cell_type": "markdown",
      "metadata": {
        "id": "lCES3NaluU7s",
        "colab_type": "text"
      },
      "source": [
        "##Counties \n",
        "Here I am going to explore the counties data set and see what all I can find. Since I live in MD, I am going to first take a look at the number of positive cases since the start of data collection"
      ]
    },
    {
      "cell_type": "code",
      "metadata": {
        "id": "-FQX-8FMp1Bv",
        "colab_type": "code",
        "colab": {}
      },
      "source": [
        "### Doing some initial exploration in the counties dataset ###\n",
        "explore(counties)"
      ],
      "execution_count": null,
      "outputs": []
    },
    {
      "cell_type": "code",
      "metadata": {
        "id": "6DzepV6Gs9S7",
        "colab_type": "code",
        "colab": {}
      },
      "source": [
        "md_counties = counties[counties['state']=='Maryland']\n",
        "md_counties"
      ],
      "execution_count": null,
      "outputs": []
    },
    {
      "cell_type": "code",
      "metadata": {
        "id": "QGIbGpLCtuoT",
        "colab_type": "code",
        "colab": {
          "base_uri": "https://localhost:8080/",
          "height": 136
        },
        "outputId": "810fae2e-3150-4210-9e86-04e930ad7d3f"
      },
      "source": [
        "### Checking fo null data \n",
        "null_check(md_counties)"
      ],
      "execution_count": 537,
      "outputs": [
        {
          "output_type": "stream",
          "text": [
            "date        0\n",
            "county      0\n",
            "state       0\n",
            "fips      122\n",
            "cases       0\n",
            "deaths      0\n",
            "dtype: int64\n"
          ],
          "name": "stdout"
        }
      ]
    },
    {
      "cell_type": "code",
      "metadata": {
        "id": "hxo9GqZK41uZ",
        "colab_type": "code",
        "colab": {}
      },
      "source": [
        "##### Counts of counties shows pretty even sampling across counties. \n",
        "md_counties_vc = md_counties['county'].value_counts()\n",
        "md_counties_vc"
      ],
      "execution_count": null,
      "outputs": []
    },
    {
      "cell_type": "code",
      "metadata": {
        "id": "Va8f2timFGcM",
        "colab_type": "code",
        "colab": {}
      },
      "source": [
        "#Creating a list of county names in md\n",
        "mdcounty_list = pd.DataFrame(md_counties_vc)\n",
        "mdcounty_list = mdcounty_list.T\n",
        "mdcounty_list"
      ],
      "execution_count": null,
      "outputs": []
    },
    {
      "cell_type": "code",
      "metadata": {
        "id": "eWKeYaf6G9al",
        "colab_type": "code",
        "colab": {}
      },
      "source": [
        "md_county_names2 = mdcounty_list.columns.tolist()\n",
        "md_county_names2"
      ],
      "execution_count": null,
      "outputs": []
    },
    {
      "cell_type": "code",
      "metadata": {
        "id": "npy3h0tWIyds",
        "colab_type": "code",
        "colab": {}
      },
      "source": [
        "#The whole process as a function to speed up later states. \n",
        "def col_list(dataframe):\n",
        "  val_counts = dataframe.value_counts()\n",
        "  val_as_pd  = pd.DataFrame(val_counts).T\n",
        "  val_list   = val_as_pd.columns.tolist()\n",
        "  val_pd     = pd.DataFrame(val_list, columns=['county'])\n",
        "  return val_list"
      ],
      "execution_count": 498,
      "outputs": []
    },
    {
      "cell_type": "code",
      "metadata": {
        "id": "GTK8M0x4KkkR",
        "colab_type": "code",
        "colab": {}
      },
      "source": [
        "md_county_names = col_list(md_counties['county']) ###<<< - - - - Testing listing function\n",
        "md_county_names"
      ],
      "execution_count": null,
      "outputs": []
    },
    {
      "cell_type": "code",
      "metadata": {
        "id": "6OXs-Re4M74m",
        "colab_type": "code",
        "colab": {}
      },
      "source": [
        "#Finding average cases per county during the entire time of recording\n",
        "#Starting with Baltimore"
      ],
      "execution_count": null,
      "outputs": []
    },
    {
      "cell_type": "code",
      "metadata": {
        "id": "7irYBv--NvY6",
        "colab_type": "code",
        "colab": {}
      },
      "source": [
        "baltimore = md_counties[md_counties['county']=='Baltimore']\n",
        "baltimore"
      ],
      "execution_count": null,
      "outputs": []
    },
    {
      "cell_type": "code",
      "metadata": {
        "id": "dQF_IFcSOHpe",
        "colab_type": "code",
        "colab": {}
      },
      "source": [
        "balt_mean = baltimore['cases'].mean()"
      ],
      "execution_count": 174,
      "outputs": []
    },
    {
      "cell_type": "code",
      "metadata": {
        "id": "BZrssgD_OuOu",
        "colab_type": "code",
        "colab": {
          "base_uri": "https://localhost:8080/",
          "height": 34
        },
        "outputId": "0c0be857-8576-4f0f-8912-d0fd8b0d2cdf"
      },
      "source": [
        "baltimore_daily_average = balt_mean/len(baltimore)\n",
        "baltimore_daily_average"
      ],
      "execution_count": 500,
      "outputs": [
        {
          "output_type": "execute_result",
          "data": {
            "text/plain": [
              "35.56853277835588"
            ]
          },
          "metadata": {
            "tags": []
          },
          "execution_count": 500
        }
      ]
    },
    {
      "cell_type": "code",
      "metadata": {
        "id": "Qd753hV5Q7UR",
        "colab_type": "code",
        "colab": {}
      },
      "source": [
        "### Create function to do this faster for later \n",
        "\n",
        "def cnty_daily_avg(dataframe, countyname):\n",
        "  county = dataframe[dataframe['county']==countyname]\n",
        "  mean   = county['cases'].mean()\n",
        "  avg    = mean/len(county)\n",
        "  dat    = [countyname,avg]\n",
        "  return dat\n"
      ],
      "execution_count": 532,
      "outputs": []
    },
    {
      "cell_type": "code",
      "metadata": {
        "id": "6MumdlbtVlIk",
        "colab_type": "code",
        "colab": {
          "base_uri": "https://localhost:8080/",
          "height": 34
        },
        "outputId": "fa785296-1ea4-4643-94d6-04585a13b8f0"
      },
      "source": [
        "balt_avg = cnty_daily_avg(md, 'Baltimore') #< - - - thank god I dont have to do this hundreds of times manually\n",
        "balt_avg"
      ],
      "execution_count": 533,
      "outputs": [
        {
          "output_type": "execute_result",
          "data": {
            "text/plain": [
              "['Baltimore', 35.56853277835588]"
            ]
          },
          "metadata": {
            "tags": []
          },
          "execution_count": 533
        }
      ]
    },
    {
      "cell_type": "code",
      "metadata": {
        "id": "ul9JGDBPqIMw",
        "colab_type": "code",
        "colab": {}
      },
      "source": [
        "#Apply function to all counties and create a dataframe\n",
        "data_list = []"
      ],
      "execution_count": 534,
      "outputs": []
    },
    {
      "cell_type": "code",
      "metadata": {
        "id": "V_0eG4UHo36d",
        "colab_type": "code",
        "colab": {}
      },
      "source": [
        "for i in md_county_names:\n",
        "  data_list.append(cnty_daily_avg(md, i)) "
      ],
      "execution_count": 535,
      "outputs": []
    },
    {
      "cell_type": "code",
      "metadata": {
        "id": "ls_WkqM2qEtH",
        "colab_type": "code",
        "colab": {}
      },
      "source": [
        "data_list"
      ],
      "execution_count": null,
      "outputs": []
    },
    {
      "cell_type": "code",
      "metadata": {
        "id": "K5XS-y8-gzUg",
        "colab_type": "code",
        "colab": {}
      },
      "source": [
        "###create function to do same thing. \n",
        "def daily_df(dataframe, countylist,):\n",
        "  data_list = []\n",
        "  for i in countylist:\n",
        "    data_list.append(cnty_daily_avg(dataframe, i)) \n",
        "  return pd.DataFrame(data_list, columns=['county','daily_avg'])"
      ],
      "execution_count": 526,
      "outputs": []
    },
    {
      "cell_type": "code",
      "metadata": {
        "id": "-D97ERVZiKMJ",
        "colab_type": "code",
        "colab": {
          "base_uri": "https://localhost:8080/",
          "height": 204
        },
        "outputId": "9ed1f049-81bd-4520-d1e8-5a51fe540a41"
      },
      "source": [
        "md_daily_avg = daily_df(md, md_county_names,)\n",
        "md_daily_avg.head()"
      ],
      "execution_count": 531,
      "outputs": [
        {
          "output_type": "execute_result",
          "data": {
            "text/html": [
              "<div>\n",
              "<style scoped>\n",
              "    .dataframe tbody tr th:only-of-type {\n",
              "        vertical-align: middle;\n",
              "    }\n",
              "\n",
              "    .dataframe tbody tr th {\n",
              "        vertical-align: top;\n",
              "    }\n",
              "\n",
              "    .dataframe thead th {\n",
              "        text-align: right;\n",
              "    }\n",
              "</style>\n",
              "<table border=\"1\" class=\"dataframe\">\n",
              "  <thead>\n",
              "    <tr style=\"text-align: right;\">\n",
              "      <th></th>\n",
              "      <th>county</th>\n",
              "      <th>daily_avg</th>\n",
              "    </tr>\n",
              "  </thead>\n",
              "  <tbody>\n",
              "    <tr>\n",
              "      <th>0</th>\n",
              "      <td>Montgomery</td>\n",
              "      <td>55.658115</td>\n",
              "    </tr>\n",
              "    <tr>\n",
              "      <th>1</th>\n",
              "      <td>Harford</td>\n",
              "      <td>4.924651</td>\n",
              "    </tr>\n",
              "    <tr>\n",
              "      <th>2</th>\n",
              "      <td>Prince George's</td>\n",
              "      <td>77.005233</td>\n",
              "    </tr>\n",
              "    <tr>\n",
              "      <th>3</th>\n",
              "      <td>Baltimore</td>\n",
              "      <td>35.568533</td>\n",
              "    </tr>\n",
              "    <tr>\n",
              "      <th>4</th>\n",
              "      <td>Anne Arundel</td>\n",
              "      <td>22.200991</td>\n",
              "    </tr>\n",
              "  </tbody>\n",
              "</table>\n",
              "</div>"
            ],
            "text/plain": [
              "            county  daily_avg\n",
              "0       Montgomery  55.658115\n",
              "1          Harford   4.924651\n",
              "2  Prince George's  77.005233\n",
              "3        Baltimore  35.568533\n",
              "4     Anne Arundel  22.200991"
            ]
          },
          "metadata": {
            "tags": []
          },
          "execution_count": 531
        }
      ]
    },
    {
      "cell_type": "markdown",
      "metadata": {
        "id": "C8hJOx0MCmIF",
        "colab_type": "text"
      },
      "source": [
        "##States"
      ]
    },
    {
      "cell_type": "code",
      "metadata": {
        "id": "tfUIKWt7p4Qp",
        "colab_type": "code",
        "colab": {
          "base_uri": "https://localhost:8080/",
          "height": 1000
        },
        "outputId": "cbd4fe66-4096-4ec5-d732-10cc31e4328d"
      },
      "source": [
        "explore(states)"
      ],
      "execution_count": 95,
      "outputs": [
        {
          "output_type": "stream",
          "text": [
            "date                           0\n",
            "state                          0\n",
            "positive                      15\n",
            "negative                     156\n",
            "pending                     7859\n",
            "hospitalizedCurrently       2618\n",
            "hospitalizedCumulative      4088\n",
            "inIcuCurrently              5654\n",
            "inIcuCumulative             7642\n",
            "onVentilatorCurrently       6092\n",
            "onVentilatorCumulative      8503\n",
            "recovered                   3275\n",
            "dataQualityGrade            1157\n",
            "lastUpdateEt                 343\n",
            "dateModified                 343\n",
            "checkTimeEt                  343\n",
            "death                        698\n",
            "hospitalized                4088\n",
            "dateChecked                  343\n",
            "totalTestsViral             5375\n",
            "positiveTestsViral          7772\n",
            "negativeTestsViral          7737\n",
            "positiveCasesViral          3087\n",
            "deathConfirmed              5780\n",
            "deathProbable               6885\n",
            "fips                           0\n",
            "positiveIncrease               0\n",
            "negativeIncrease               0\n",
            "total                          0\n",
            "totalTestResults               0\n",
            "totalTestResultsIncrease       0\n",
            "posNeg                         0\n",
            "deathIncrease                  0\n",
            "hospitalizedIncrease           0\n",
            "hash                           0\n",
            "commercialScore                0\n",
            "negativeRegularScore           0\n",
            "negativeScore                  0\n",
            "positiveScore                  0\n",
            "score                          0\n",
            "grade                       8977\n",
            "dtype: int64\n",
            "None\n",
            "Shape:  (8977, 41)\n",
            "               date       positive      negative  ...  positiveScore   score  grade\n",
            "count  8.977000e+03    8962.000000  8.821000e+03  ...         8977.0  8977.0    0.0\n",
            "mean   2.020054e+07   33510.819572  3.371813e+05  ...            0.0     0.0    NaN\n",
            "std    1.543341e+02   69420.963125  7.268153e+05  ...            0.0     0.0    NaN\n",
            "min    2.020012e+07       0.000000  0.000000e+00  ...            0.0     0.0    NaN\n",
            "25%    2.020041e+07     803.000000  1.557000e+04  ...            0.0     0.0    NaN\n",
            "50%    2.020052e+07    7688.000000  9.848100e+04  ...            0.0     0.0    NaN\n",
            "75%    2.020070e+07   34974.000000  3.487760e+05  ...            0.0     0.0    NaN\n",
            "max    2.020081e+07  586056.000000  8.717411e+06  ...            0.0     0.0    NaN\n",
            "\n",
            "[8 rows x 34 columns]\n"
          ],
          "name": "stdout"
        },
        {
          "output_type": "execute_result",
          "data": {
            "text/html": [
              "<div>\n",
              "<style scoped>\n",
              "    .dataframe tbody tr th:only-of-type {\n",
              "        vertical-align: middle;\n",
              "    }\n",
              "\n",
              "    .dataframe tbody tr th {\n",
              "        vertical-align: top;\n",
              "    }\n",
              "\n",
              "    .dataframe thead th {\n",
              "        text-align: right;\n",
              "    }\n",
              "</style>\n",
              "<table border=\"1\" class=\"dataframe\">\n",
              "  <thead>\n",
              "    <tr style=\"text-align: right;\">\n",
              "      <th></th>\n",
              "      <th>date</th>\n",
              "      <th>state</th>\n",
              "      <th>positive</th>\n",
              "      <th>negative</th>\n",
              "      <th>pending</th>\n",
              "      <th>hospitalizedCurrently</th>\n",
              "      <th>hospitalizedCumulative</th>\n",
              "      <th>inIcuCurrently</th>\n",
              "      <th>inIcuCumulative</th>\n",
              "      <th>onVentilatorCurrently</th>\n",
              "      <th>onVentilatorCumulative</th>\n",
              "      <th>recovered</th>\n",
              "      <th>dataQualityGrade</th>\n",
              "      <th>lastUpdateEt</th>\n",
              "      <th>dateModified</th>\n",
              "      <th>checkTimeEt</th>\n",
              "      <th>death</th>\n",
              "      <th>hospitalized</th>\n",
              "      <th>dateChecked</th>\n",
              "      <th>totalTestsViral</th>\n",
              "      <th>positiveTestsViral</th>\n",
              "      <th>negativeTestsViral</th>\n",
              "      <th>positiveCasesViral</th>\n",
              "      <th>deathConfirmed</th>\n",
              "      <th>deathProbable</th>\n",
              "      <th>fips</th>\n",
              "      <th>positiveIncrease</th>\n",
              "      <th>negativeIncrease</th>\n",
              "      <th>total</th>\n",
              "      <th>totalTestResults</th>\n",
              "      <th>totalTestResultsIncrease</th>\n",
              "      <th>posNeg</th>\n",
              "      <th>deathIncrease</th>\n",
              "      <th>hospitalizedIncrease</th>\n",
              "      <th>hash</th>\n",
              "      <th>commercialScore</th>\n",
              "      <th>negativeRegularScore</th>\n",
              "      <th>negativeScore</th>\n",
              "      <th>positiveScore</th>\n",
              "      <th>score</th>\n",
              "      <th>grade</th>\n",
              "    </tr>\n",
              "  </thead>\n",
              "  <tbody>\n",
              "    <tr>\n",
              "      <th>0</th>\n",
              "      <td>20200812</td>\n",
              "      <td>AK</td>\n",
              "      <td>4655.0</td>\n",
              "      <td>287927.0</td>\n",
              "      <td>NaN</td>\n",
              "      <td>39.0</td>\n",
              "      <td>NaN</td>\n",
              "      <td>NaN</td>\n",
              "      <td>NaN</td>\n",
              "      <td>3.0</td>\n",
              "      <td>NaN</td>\n",
              "      <td>1359.0</td>\n",
              "      <td>NaN</td>\n",
              "      <td>8/12/2020 00:00</td>\n",
              "      <td>2020-08-12T00:00:00Z</td>\n",
              "      <td>08/11 20:00</td>\n",
              "      <td>27.0</td>\n",
              "      <td>NaN</td>\n",
              "      <td>2020-08-12T00:00:00Z</td>\n",
              "      <td>292582.0</td>\n",
              "      <td>4646.0</td>\n",
              "      <td>287633.0</td>\n",
              "      <td>4655.0</td>\n",
              "      <td>27.0</td>\n",
              "      <td>NaN</td>\n",
              "      <td>2</td>\n",
              "      <td>66</td>\n",
              "      <td>1772</td>\n",
              "      <td>292582</td>\n",
              "      <td>292582</td>\n",
              "      <td>1838</td>\n",
              "      <td>292582</td>\n",
              "      <td>1</td>\n",
              "      <td>0</td>\n",
              "      <td>04d3f681722d466f15660e1ded53888693484520</td>\n",
              "      <td>0</td>\n",
              "      <td>0</td>\n",
              "      <td>0</td>\n",
              "      <td>0</td>\n",
              "      <td>0</td>\n",
              "      <td>NaN</td>\n",
              "    </tr>\n",
              "    <tr>\n",
              "      <th>1</th>\n",
              "      <td>20200812</td>\n",
              "      <td>AL</td>\n",
              "      <td>104786.0</td>\n",
              "      <td>690985.0</td>\n",
              "      <td>NaN</td>\n",
              "      <td>1372.0</td>\n",
              "      <td>12292.0</td>\n",
              "      <td>NaN</td>\n",
              "      <td>1282.0</td>\n",
              "      <td>NaN</td>\n",
              "      <td>700.0</td>\n",
              "      <td>41523.0</td>\n",
              "      <td>NaN</td>\n",
              "      <td>8/12/2020 11:00</td>\n",
              "      <td>2020-08-12T11:00:00Z</td>\n",
              "      <td>08/12 07:00</td>\n",
              "      <td>1882.0</td>\n",
              "      <td>12292.0</td>\n",
              "      <td>2020-08-12T11:00:00Z</td>\n",
              "      <td>791786.0</td>\n",
              "      <td>NaN</td>\n",
              "      <td>NaN</td>\n",
              "      <td>100801.0</td>\n",
              "      <td>1814.0</td>\n",
              "      <td>68.0</td>\n",
              "      <td>1</td>\n",
              "      <td>935</td>\n",
              "      <td>11147</td>\n",
              "      <td>795771</td>\n",
              "      <td>795771</td>\n",
              "      <td>12082</td>\n",
              "      <td>795771</td>\n",
              "      <td>35</td>\n",
              "      <td>222</td>\n",
              "      <td>3b8e75d37adb9ba3951ec8b2aae85ba1fa9b02f1</td>\n",
              "      <td>0</td>\n",
              "      <td>0</td>\n",
              "      <td>0</td>\n",
              "      <td>0</td>\n",
              "      <td>0</td>\n",
              "      <td>NaN</td>\n",
              "    </tr>\n",
              "    <tr>\n",
              "      <th>2</th>\n",
              "      <td>20200812</td>\n",
              "      <td>AR</td>\n",
              "      <td>51114.0</td>\n",
              "      <td>522457.0</td>\n",
              "      <td>NaN</td>\n",
              "      <td>486.0</td>\n",
              "      <td>3472.0</td>\n",
              "      <td>NaN</td>\n",
              "      <td>NaN</td>\n",
              "      <td>113.0</td>\n",
              "      <td>455.0</td>\n",
              "      <td>42998.0</td>\n",
              "      <td>NaN</td>\n",
              "      <td>8/12/2020 14:40</td>\n",
              "      <td>2020-08-12T14:40:00Z</td>\n",
              "      <td>08/12 10:40</td>\n",
              "      <td>566.0</td>\n",
              "      <td>3472.0</td>\n",
              "      <td>2020-08-12T14:40:00Z</td>\n",
              "      <td>572868.0</td>\n",
              "      <td>NaN</td>\n",
              "      <td>522457.0</td>\n",
              "      <td>51114.0</td>\n",
              "      <td>NaN</td>\n",
              "      <td>NaN</td>\n",
              "      <td>5</td>\n",
              "      <td>703</td>\n",
              "      <td>0</td>\n",
              "      <td>573571</td>\n",
              "      <td>573571</td>\n",
              "      <td>703</td>\n",
              "      <td>573571</td>\n",
              "      <td>0</td>\n",
              "      <td>71</td>\n",
              "      <td>614656008210925b859900619d0426d793e79029</td>\n",
              "      <td>0</td>\n",
              "      <td>0</td>\n",
              "      <td>0</td>\n",
              "      <td>0</td>\n",
              "      <td>0</td>\n",
              "      <td>NaN</td>\n",
              "    </tr>\n",
              "    <tr>\n",
              "      <th>3</th>\n",
              "      <td>20200812</td>\n",
              "      <td>AS</td>\n",
              "      <td>0.0</td>\n",
              "      <td>1396.0</td>\n",
              "      <td>NaN</td>\n",
              "      <td>NaN</td>\n",
              "      <td>NaN</td>\n",
              "      <td>NaN</td>\n",
              "      <td>NaN</td>\n",
              "      <td>NaN</td>\n",
              "      <td>NaN</td>\n",
              "      <td>NaN</td>\n",
              "      <td>NaN</td>\n",
              "      <td>7/24/2020 00:00</td>\n",
              "      <td>2020-07-24T00:00:00Z</td>\n",
              "      <td>07/23 20:00</td>\n",
              "      <td>0.0</td>\n",
              "      <td>NaN</td>\n",
              "      <td>2020-07-24T00:00:00Z</td>\n",
              "      <td>NaN</td>\n",
              "      <td>NaN</td>\n",
              "      <td>NaN</td>\n",
              "      <td>0.0</td>\n",
              "      <td>NaN</td>\n",
              "      <td>NaN</td>\n",
              "      <td>60</td>\n",
              "      <td>0</td>\n",
              "      <td>0</td>\n",
              "      <td>1396</td>\n",
              "      <td>1396</td>\n",
              "      <td>0</td>\n",
              "      <td>1396</td>\n",
              "      <td>0</td>\n",
              "      <td>0</td>\n",
              "      <td>f6988932e32e01718e47c8647131e3311e70d481</td>\n",
              "      <td>0</td>\n",
              "      <td>0</td>\n",
              "      <td>0</td>\n",
              "      <td>0</td>\n",
              "      <td>0</td>\n",
              "      <td>NaN</td>\n",
              "    </tr>\n",
              "    <tr>\n",
              "      <th>4</th>\n",
              "      <td>20200812</td>\n",
              "      <td>AZ</td>\n",
              "      <td>189443.0</td>\n",
              "      <td>854785.0</td>\n",
              "      <td>NaN</td>\n",
              "      <td>1469.0</td>\n",
              "      <td>19821.0</td>\n",
              "      <td>519.0</td>\n",
              "      <td>NaN</td>\n",
              "      <td>328.0</td>\n",
              "      <td>NaN</td>\n",
              "      <td>26418.0</td>\n",
              "      <td>NaN</td>\n",
              "      <td>8/12/2020 00:00</td>\n",
              "      <td>2020-08-12T00:00:00Z</td>\n",
              "      <td>08/11 20:00</td>\n",
              "      <td>4347.0</td>\n",
              "      <td>19821.0</td>\n",
              "      <td>2020-08-12T00:00:00Z</td>\n",
              "      <td>1042838.0</td>\n",
              "      <td>NaN</td>\n",
              "      <td>NaN</td>\n",
              "      <td>188053.0</td>\n",
              "      <td>4095.0</td>\n",
              "      <td>252.0</td>\n",
              "      <td>4</td>\n",
              "      <td>706</td>\n",
              "      <td>6247</td>\n",
              "      <td>1044228</td>\n",
              "      <td>1044228</td>\n",
              "      <td>6953</td>\n",
              "      <td>1044228</td>\n",
              "      <td>148</td>\n",
              "      <td>529</td>\n",
              "      <td>83481965d3dca76744e02ade2b8ec71c6fec31b7</td>\n",
              "      <td>0</td>\n",
              "      <td>0</td>\n",
              "      <td>0</td>\n",
              "      <td>0</td>\n",
              "      <td>0</td>\n",
              "      <td>NaN</td>\n",
              "    </tr>\n",
              "  </tbody>\n",
              "</table>\n",
              "</div>"
            ],
            "text/plain": [
              "       date state  positive  ...  positiveScore  score  grade\n",
              "0  20200812    AK    4655.0  ...              0      0    NaN\n",
              "1  20200812    AL  104786.0  ...              0      0    NaN\n",
              "2  20200812    AR   51114.0  ...              0      0    NaN\n",
              "3  20200812    AS       0.0  ...              0      0    NaN\n",
              "4  20200812    AZ  189443.0  ...              0      0    NaN\n",
              "\n",
              "[5 rows x 41 columns]"
            ]
          },
          "metadata": {
            "tags": []
          },
          "execution_count": 95
        }
      ]
    },
    {
      "cell_type": "markdown",
      "metadata": {
        "id": "dj_qn9zkCs_O",
        "colab_type": "text"
      },
      "source": [
        "##US\n"
      ]
    },
    {
      "cell_type": "code",
      "metadata": {
        "id": "_lx3Qsyhsg5o",
        "colab_type": "code",
        "colab": {
          "base_uri": "https://localhost:8080/",
          "height": 1000
        },
        "outputId": "41a98635-851f-4839-cac2-882c9990f560"
      },
      "source": [
        "explore(us)"
      ],
      "execution_count": 96,
      "outputs": [
        {
          "output_type": "stream",
          "text": [
            "date                           0\n",
            "state                          0\n",
            "positive                      15\n",
            "negative                     156\n",
            "pending                     7859\n",
            "hospitalizedCurrently       2618\n",
            "hospitalizedCumulative      4088\n",
            "inIcuCurrently              5654\n",
            "inIcuCumulative             7642\n",
            "onVentilatorCurrently       6092\n",
            "onVentilatorCumulative      8503\n",
            "recovered                   3275\n",
            "dataQualityGrade            1157\n",
            "lastUpdateEt                 343\n",
            "dateModified                 343\n",
            "checkTimeEt                  343\n",
            "death                        698\n",
            "hospitalized                4088\n",
            "dateChecked                  343\n",
            "totalTestsViral             5375\n",
            "positiveTestsViral          7772\n",
            "negativeTestsViral          7737\n",
            "positiveCasesViral          3087\n",
            "deathConfirmed              5780\n",
            "deathProbable               6885\n",
            "fips                           0\n",
            "positiveIncrease               0\n",
            "negativeIncrease               0\n",
            "total                          0\n",
            "totalTestResults               0\n",
            "totalTestResultsIncrease       0\n",
            "posNeg                         0\n",
            "deathIncrease                  0\n",
            "hospitalizedIncrease           0\n",
            "hash                           0\n",
            "commercialScore                0\n",
            "negativeRegularScore           0\n",
            "negativeScore                  0\n",
            "positiveScore                  0\n",
            "score                          0\n",
            "grade                       8977\n",
            "dtype: int64\n",
            "None\n",
            "Shape:  (8977, 41)\n",
            "               date       positive      negative  ...  positiveScore   score  grade\n",
            "count  8.977000e+03    8962.000000  8.821000e+03  ...         8977.0  8977.0    0.0\n",
            "mean   2.020054e+07   33510.819572  3.371813e+05  ...            0.0     0.0    NaN\n",
            "std    1.543341e+02   69420.963125  7.268153e+05  ...            0.0     0.0    NaN\n",
            "min    2.020012e+07       0.000000  0.000000e+00  ...            0.0     0.0    NaN\n",
            "25%    2.020041e+07     803.000000  1.557000e+04  ...            0.0     0.0    NaN\n",
            "50%    2.020052e+07    7688.000000  9.848100e+04  ...            0.0     0.0    NaN\n",
            "75%    2.020070e+07   34974.000000  3.487760e+05  ...            0.0     0.0    NaN\n",
            "max    2.020081e+07  586056.000000  8.717411e+06  ...            0.0     0.0    NaN\n",
            "\n",
            "[8 rows x 34 columns]\n"
          ],
          "name": "stdout"
        },
        {
          "output_type": "execute_result",
          "data": {
            "text/html": [
              "<div>\n",
              "<style scoped>\n",
              "    .dataframe tbody tr th:only-of-type {\n",
              "        vertical-align: middle;\n",
              "    }\n",
              "\n",
              "    .dataframe tbody tr th {\n",
              "        vertical-align: top;\n",
              "    }\n",
              "\n",
              "    .dataframe thead th {\n",
              "        text-align: right;\n",
              "    }\n",
              "</style>\n",
              "<table border=\"1\" class=\"dataframe\">\n",
              "  <thead>\n",
              "    <tr style=\"text-align: right;\">\n",
              "      <th></th>\n",
              "      <th>date</th>\n",
              "      <th>state</th>\n",
              "      <th>positive</th>\n",
              "      <th>negative</th>\n",
              "      <th>pending</th>\n",
              "      <th>hospitalizedCurrently</th>\n",
              "      <th>hospitalizedCumulative</th>\n",
              "      <th>inIcuCurrently</th>\n",
              "      <th>inIcuCumulative</th>\n",
              "      <th>onVentilatorCurrently</th>\n",
              "      <th>onVentilatorCumulative</th>\n",
              "      <th>recovered</th>\n",
              "      <th>dataQualityGrade</th>\n",
              "      <th>lastUpdateEt</th>\n",
              "      <th>dateModified</th>\n",
              "      <th>checkTimeEt</th>\n",
              "      <th>death</th>\n",
              "      <th>hospitalized</th>\n",
              "      <th>dateChecked</th>\n",
              "      <th>totalTestsViral</th>\n",
              "      <th>positiveTestsViral</th>\n",
              "      <th>negativeTestsViral</th>\n",
              "      <th>positiveCasesViral</th>\n",
              "      <th>deathConfirmed</th>\n",
              "      <th>deathProbable</th>\n",
              "      <th>fips</th>\n",
              "      <th>positiveIncrease</th>\n",
              "      <th>negativeIncrease</th>\n",
              "      <th>total</th>\n",
              "      <th>totalTestResults</th>\n",
              "      <th>totalTestResultsIncrease</th>\n",
              "      <th>posNeg</th>\n",
              "      <th>deathIncrease</th>\n",
              "      <th>hospitalizedIncrease</th>\n",
              "      <th>hash</th>\n",
              "      <th>commercialScore</th>\n",
              "      <th>negativeRegularScore</th>\n",
              "      <th>negativeScore</th>\n",
              "      <th>positiveScore</th>\n",
              "      <th>score</th>\n",
              "      <th>grade</th>\n",
              "    </tr>\n",
              "  </thead>\n",
              "  <tbody>\n",
              "    <tr>\n",
              "      <th>0</th>\n",
              "      <td>20200812</td>\n",
              "      <td>AK</td>\n",
              "      <td>4655.0</td>\n",
              "      <td>287927.0</td>\n",
              "      <td>NaN</td>\n",
              "      <td>39.0</td>\n",
              "      <td>NaN</td>\n",
              "      <td>NaN</td>\n",
              "      <td>NaN</td>\n",
              "      <td>3.0</td>\n",
              "      <td>NaN</td>\n",
              "      <td>1359.0</td>\n",
              "      <td>NaN</td>\n",
              "      <td>8/12/2020 00:00</td>\n",
              "      <td>2020-08-12T00:00:00Z</td>\n",
              "      <td>08/11 20:00</td>\n",
              "      <td>27.0</td>\n",
              "      <td>NaN</td>\n",
              "      <td>2020-08-12T00:00:00Z</td>\n",
              "      <td>292582.0</td>\n",
              "      <td>4646.0</td>\n",
              "      <td>287633.0</td>\n",
              "      <td>4655.0</td>\n",
              "      <td>27.0</td>\n",
              "      <td>NaN</td>\n",
              "      <td>2</td>\n",
              "      <td>66</td>\n",
              "      <td>1772</td>\n",
              "      <td>292582</td>\n",
              "      <td>292582</td>\n",
              "      <td>1838</td>\n",
              "      <td>292582</td>\n",
              "      <td>1</td>\n",
              "      <td>0</td>\n",
              "      <td>04d3f681722d466f15660e1ded53888693484520</td>\n",
              "      <td>0</td>\n",
              "      <td>0</td>\n",
              "      <td>0</td>\n",
              "      <td>0</td>\n",
              "      <td>0</td>\n",
              "      <td>NaN</td>\n",
              "    </tr>\n",
              "    <tr>\n",
              "      <th>1</th>\n",
              "      <td>20200812</td>\n",
              "      <td>AL</td>\n",
              "      <td>104786.0</td>\n",
              "      <td>690985.0</td>\n",
              "      <td>NaN</td>\n",
              "      <td>1372.0</td>\n",
              "      <td>12292.0</td>\n",
              "      <td>NaN</td>\n",
              "      <td>1282.0</td>\n",
              "      <td>NaN</td>\n",
              "      <td>700.0</td>\n",
              "      <td>41523.0</td>\n",
              "      <td>NaN</td>\n",
              "      <td>8/12/2020 11:00</td>\n",
              "      <td>2020-08-12T11:00:00Z</td>\n",
              "      <td>08/12 07:00</td>\n",
              "      <td>1882.0</td>\n",
              "      <td>12292.0</td>\n",
              "      <td>2020-08-12T11:00:00Z</td>\n",
              "      <td>791786.0</td>\n",
              "      <td>NaN</td>\n",
              "      <td>NaN</td>\n",
              "      <td>100801.0</td>\n",
              "      <td>1814.0</td>\n",
              "      <td>68.0</td>\n",
              "      <td>1</td>\n",
              "      <td>935</td>\n",
              "      <td>11147</td>\n",
              "      <td>795771</td>\n",
              "      <td>795771</td>\n",
              "      <td>12082</td>\n",
              "      <td>795771</td>\n",
              "      <td>35</td>\n",
              "      <td>222</td>\n",
              "      <td>3b8e75d37adb9ba3951ec8b2aae85ba1fa9b02f1</td>\n",
              "      <td>0</td>\n",
              "      <td>0</td>\n",
              "      <td>0</td>\n",
              "      <td>0</td>\n",
              "      <td>0</td>\n",
              "      <td>NaN</td>\n",
              "    </tr>\n",
              "    <tr>\n",
              "      <th>2</th>\n",
              "      <td>20200812</td>\n",
              "      <td>AR</td>\n",
              "      <td>51114.0</td>\n",
              "      <td>522457.0</td>\n",
              "      <td>NaN</td>\n",
              "      <td>486.0</td>\n",
              "      <td>3472.0</td>\n",
              "      <td>NaN</td>\n",
              "      <td>NaN</td>\n",
              "      <td>113.0</td>\n",
              "      <td>455.0</td>\n",
              "      <td>42998.0</td>\n",
              "      <td>NaN</td>\n",
              "      <td>8/12/2020 14:40</td>\n",
              "      <td>2020-08-12T14:40:00Z</td>\n",
              "      <td>08/12 10:40</td>\n",
              "      <td>566.0</td>\n",
              "      <td>3472.0</td>\n",
              "      <td>2020-08-12T14:40:00Z</td>\n",
              "      <td>572868.0</td>\n",
              "      <td>NaN</td>\n",
              "      <td>522457.0</td>\n",
              "      <td>51114.0</td>\n",
              "      <td>NaN</td>\n",
              "      <td>NaN</td>\n",
              "      <td>5</td>\n",
              "      <td>703</td>\n",
              "      <td>0</td>\n",
              "      <td>573571</td>\n",
              "      <td>573571</td>\n",
              "      <td>703</td>\n",
              "      <td>573571</td>\n",
              "      <td>0</td>\n",
              "      <td>71</td>\n",
              "      <td>614656008210925b859900619d0426d793e79029</td>\n",
              "      <td>0</td>\n",
              "      <td>0</td>\n",
              "      <td>0</td>\n",
              "      <td>0</td>\n",
              "      <td>0</td>\n",
              "      <td>NaN</td>\n",
              "    </tr>\n",
              "    <tr>\n",
              "      <th>3</th>\n",
              "      <td>20200812</td>\n",
              "      <td>AS</td>\n",
              "      <td>0.0</td>\n",
              "      <td>1396.0</td>\n",
              "      <td>NaN</td>\n",
              "      <td>NaN</td>\n",
              "      <td>NaN</td>\n",
              "      <td>NaN</td>\n",
              "      <td>NaN</td>\n",
              "      <td>NaN</td>\n",
              "      <td>NaN</td>\n",
              "      <td>NaN</td>\n",
              "      <td>NaN</td>\n",
              "      <td>7/24/2020 00:00</td>\n",
              "      <td>2020-07-24T00:00:00Z</td>\n",
              "      <td>07/23 20:00</td>\n",
              "      <td>0.0</td>\n",
              "      <td>NaN</td>\n",
              "      <td>2020-07-24T00:00:00Z</td>\n",
              "      <td>NaN</td>\n",
              "      <td>NaN</td>\n",
              "      <td>NaN</td>\n",
              "      <td>0.0</td>\n",
              "      <td>NaN</td>\n",
              "      <td>NaN</td>\n",
              "      <td>60</td>\n",
              "      <td>0</td>\n",
              "      <td>0</td>\n",
              "      <td>1396</td>\n",
              "      <td>1396</td>\n",
              "      <td>0</td>\n",
              "      <td>1396</td>\n",
              "      <td>0</td>\n",
              "      <td>0</td>\n",
              "      <td>f6988932e32e01718e47c8647131e3311e70d481</td>\n",
              "      <td>0</td>\n",
              "      <td>0</td>\n",
              "      <td>0</td>\n",
              "      <td>0</td>\n",
              "      <td>0</td>\n",
              "      <td>NaN</td>\n",
              "    </tr>\n",
              "    <tr>\n",
              "      <th>4</th>\n",
              "      <td>20200812</td>\n",
              "      <td>AZ</td>\n",
              "      <td>189443.0</td>\n",
              "      <td>854785.0</td>\n",
              "      <td>NaN</td>\n",
              "      <td>1469.0</td>\n",
              "      <td>19821.0</td>\n",
              "      <td>519.0</td>\n",
              "      <td>NaN</td>\n",
              "      <td>328.0</td>\n",
              "      <td>NaN</td>\n",
              "      <td>26418.0</td>\n",
              "      <td>NaN</td>\n",
              "      <td>8/12/2020 00:00</td>\n",
              "      <td>2020-08-12T00:00:00Z</td>\n",
              "      <td>08/11 20:00</td>\n",
              "      <td>4347.0</td>\n",
              "      <td>19821.0</td>\n",
              "      <td>2020-08-12T00:00:00Z</td>\n",
              "      <td>1042838.0</td>\n",
              "      <td>NaN</td>\n",
              "      <td>NaN</td>\n",
              "      <td>188053.0</td>\n",
              "      <td>4095.0</td>\n",
              "      <td>252.0</td>\n",
              "      <td>4</td>\n",
              "      <td>706</td>\n",
              "      <td>6247</td>\n",
              "      <td>1044228</td>\n",
              "      <td>1044228</td>\n",
              "      <td>6953</td>\n",
              "      <td>1044228</td>\n",
              "      <td>148</td>\n",
              "      <td>529</td>\n",
              "      <td>83481965d3dca76744e02ade2b8ec71c6fec31b7</td>\n",
              "      <td>0</td>\n",
              "      <td>0</td>\n",
              "      <td>0</td>\n",
              "      <td>0</td>\n",
              "      <td>0</td>\n",
              "      <td>NaN</td>\n",
              "    </tr>\n",
              "  </tbody>\n",
              "</table>\n",
              "</div>"
            ],
            "text/plain": [
              "       date state  positive  ...  positiveScore  score  grade\n",
              "0  20200812    AK    4655.0  ...              0      0    NaN\n",
              "1  20200812    AL  104786.0  ...              0      0    NaN\n",
              "2  20200812    AR   51114.0  ...              0      0    NaN\n",
              "3  20200812    AS       0.0  ...              0      0    NaN\n",
              "4  20200812    AZ  189443.0  ...              0      0    NaN\n",
              "\n",
              "[5 rows x 41 columns]"
            ]
          },
          "metadata": {
            "tags": []
          },
          "execution_count": 96
        }
      ]
    }
  ]
}